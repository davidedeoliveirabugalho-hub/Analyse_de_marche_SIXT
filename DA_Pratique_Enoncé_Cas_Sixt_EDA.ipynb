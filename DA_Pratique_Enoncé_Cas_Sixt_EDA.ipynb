{
  "cells": [
    {
      "cell_type": "markdown",
      "id": "8d9e5377",
      "metadata": {
        "id": "8d9e5377"
      },
      "source": [
        "# Analyse des Données - Cas Sixt"
      ]
    },
    {
      "cell_type": "markdown",
      "id": "cpnycKrGiHM1",
      "metadata": {
        "id": "cpnycKrGiHM1"
      },
      "source": [
        "Faire tourner les cellules \"Question 1\" à \"Question 9\".\n",
        "Penser à les lire et comprendre leur résultats avant de se lancer directement dans la question 10."
      ]
    },
    {
      "cell_type": "markdown",
      "id": "6763b3e2",
      "metadata": {
        "id": "6763b3e2"
      },
      "source": [
        "## 1. Compréhension du Dataset"
      ]
    },
    {
      "cell_type": "markdown",
      "id": "dc5cd406",
      "metadata": {
        "id": "dc5cd406"
      },
      "source": [
        "### Question 1 : Importer les packages et chargez les fichiers CSV fournis pour pouvoir les exploiter."
      ]
    },
    {
      "cell_type": "code",
      "execution_count": 1,
      "id": "b819e5de",
      "metadata": {
        "id": "b819e5de"
      },
      "outputs": [],
      "source": [
        "import pandas as pd\n",
        "import numpy as np\n",
        "import matplotlib.pyplot as plt\n",
        "import seaborn as sns\n",
        "\n",
        "# Chargement des fichiers CSV générés\n",
        "clients = pd.read_csv(\"clients.csv\")\n",
        "locations = pd.read_csv(\"locations.csv\")\n",
        "paiements = pd.read_csv(\"paiements.csv\")\n",
        "avis_clients = pd.read_csv(\"avis_clients.csv\")"
      ]
    },
    {
      "cell_type": "markdown",
      "id": "8caea4b6",
      "metadata": {
        "id": "8caea4b6"
      },
      "source": [
        "### Question 2 : Combien de lignes et de colonnes contient chaque table ?"
      ]
    },
    {
      "cell_type": "code",
      "execution_count": 2,
      "id": "a9175225",
      "metadata": {
        "id": "a9175225"
      },
      "outputs": [
        {
          "name": "stdout",
          "output_type": "stream",
          "text": [
            "Clients:\n",
            "Lignes: 5000, Colonnes: 11\n",
            "\n",
            "Locations:\n",
            "Lignes: 10000, Colonnes: 12\n",
            "\n",
            "Paiements:\n",
            "Lignes: 10000, Colonnes: 18\n",
            "\n",
            "Avis Clients:\n",
            "Lignes: 4509, Colonnes: 6\n"
          ]
        }
      ],
      "source": [
        "print(\"Clients:\")\n",
        "print(f\"Lignes: {clients.shape[0]}, Colonnes: {clients.shape[1]}\")\n",
        "print(\"\\nLocations:\")\n",
        "print(f\"Lignes: {locations.shape[0]}, Colonnes: {locations.shape[1]}\")\n",
        "print(\"\\nPaiements:\")\n",
        "print(f\"Lignes: {paiements.shape[0]}, Colonnes: {paiements.shape[1]}\")\n",
        "print(\"\\nAvis Clients:\")\n",
        "print(f\"Lignes: {avis_clients.shape[0]}, Colonnes: {avis_clients.shape[1]}\")"
      ]
    },
    {
      "cell_type": "markdown",
      "id": "8d9e1a19",
      "metadata": {
        "id": "8d9e1a19"
      },
      "source": [
        "### Question 3 : Listez les types de variables et identifiez les modifications nécessaires."
      ]
    },
    {
      "cell_type": "code",
      "execution_count": 3,
      "id": "689904aa",
      "metadata": {
        "colab": {
          "base_uri": "https://localhost:8080/"
        },
        "id": "689904aa",
        "outputId": "ec110b11-f547-4aea-a730-b5125c0b23cb"
      },
      "outputs": [
        {
          "name": "stdout",
          "output_type": "stream",
          "text": [
            "client_id                   int64\n",
            "date_inscription           object\n",
            "genre                      object\n",
            "age                         int64\n",
            "type_client                object\n",
            "ville                      object\n",
            "pays                       object\n",
            "programme_fidelite           bool\n",
            "nombre_locations_total      int64\n",
            "revenu_annuel             float64\n",
            "métier                     object\n",
            "dtype: object\n",
            "location_id                     int64\n",
            "client_id                       int64\n",
            "date_location                  object\n",
            "duree_location                  int64\n",
            "type_vehicule                  object\n",
            "type_carburant                 object\n",
            "lieu_location                  object\n",
            "kilométrage                   float64\n",
            "prix_total                    float64\n",
            "remise_appliquee                 bool\n",
            "programme_fidelite_utilise       bool\n",
            "premiere_location                bool\n",
            "dtype: object\n",
            "location_id                     int64\n",
            "client_id                       int64\n",
            "date_location                  object\n",
            "duree_location                  int64\n",
            "type_vehicule                  object\n",
            "type_carburant                 object\n",
            "lieu_location                  object\n",
            "kilométrage                   float64\n",
            "prix_total                    float64\n",
            "remise_appliquee                 bool\n",
            "programme_fidelite_utilise       bool\n",
            "premiere_location                bool\n",
            "paiement_id                     int64\n",
            "date_paiement                  object\n",
            "montant_paye                  float64\n",
            "type_paiement                  object\n",
            "statut_paiement                object\n",
            "remise_appliquée_en_%         float64\n",
            "dtype: object\n",
            "avis_id         int64\n",
            "client_id       int64\n",
            "location_id     int64\n",
            "note            int64\n",
            "commentaire    object\n",
            "date_avis      object\n",
            "dtype: object\n"
          ]
        }
      ],
      "source": [
        "print(clients.dtypes)\n",
        "print(locations.dtypes)\n",
        "print(paiements.dtypes)\n",
        "print(avis_clients.dtypes)"
      ]
    },
    {
      "cell_type": "markdown",
      "id": "98547fa3",
      "metadata": {
        "id": "98547fa3"
      },
      "source": [
        "### Question 4 : Convertissez les colonnes contenant des dates au format datetime pour faciliter l'analyse temporelle."
      ]
    },
    {
      "cell_type": "code",
      "execution_count": 4,
      "id": "13ebaa70",
      "metadata": {
        "id": "13ebaa70"
      },
      "outputs": [],
      "source": [
        "date_cols = [\"date_inscription\", \"date_location\", \"date_paiement\", \"date_avis\"]\n",
        "for df in [clients, locations, paiements, avis_clients]:\n",
        "    for col in date_cols:\n",
        "        if col in df.columns:\n",
        "            df[col] = pd.to_datetime(df[col])"
      ]
    },
    {
      "cell_type": "markdown",
      "id": "64790ca7",
      "metadata": {
        "id": "64790ca7"
      },
      "source": [
        "## 2. Nettoyage et traitement des données"
      ]
    },
    {
      "cell_type": "markdown",
      "id": "cbc60182",
      "metadata": {
        "id": "cbc60182"
      },
      "source": [
        "### Question 5 : Supprimez les éventuels doublons dans chaque table pour éviter les biais dans l'analyse."
      ]
    },
    {
      "cell_type": "code",
      "execution_count": 5,
      "id": "b789470d",
      "metadata": {
        "id": "b789470d"
      },
      "outputs": [],
      "source": [
        "clients.drop_duplicates(inplace=True)\n",
        "locations.drop_duplicates(inplace=True)\n",
        "paiements.drop_duplicates(inplace=True)\n",
        "avis_clients.drop_duplicates(inplace=True)"
      ]
    },
    {
      "cell_type": "markdown",
      "id": "2e61025c",
      "metadata": {
        "id": "2e61025c"
      },
      "source": [
        "### Question 6 : Identifiez et analysez les valeurs manquantes."
      ]
    },
    {
      "cell_type": "code",
      "execution_count": 6,
      "id": "a706256e",
      "metadata": {
        "colab": {
          "base_uri": "https://localhost:8080/"
        },
        "id": "a706256e",
        "outputId": "1caa11a1-5bc2-4672-9f7a-f312d556cf02"
      },
      "outputs": [
        {
          "name": "stdout",
          "output_type": "stream",
          "text": [
            "client_id                   0\n",
            "date_inscription            0\n",
            "genre                       0\n",
            "age                         0\n",
            "type_client                 0\n",
            "ville                       0\n",
            "pays                        0\n",
            "programme_fidelite          0\n",
            "nombre_locations_total      0\n",
            "revenu_annuel             496\n",
            "métier                      0\n",
            "dtype: int64\n",
            "location_id                     0\n",
            "client_id                       0\n",
            "date_location                   0\n",
            "duree_location                  0\n",
            "type_vehicule                   0\n",
            "type_carburant                  0\n",
            "lieu_location                   0\n",
            "kilométrage                   760\n",
            "prix_total                      0\n",
            "remise_appliquee                0\n",
            "programme_fidelite_utilise      0\n",
            "premiere_location               0\n",
            "dtype: int64\n",
            "location_id                      0\n",
            "client_id                        0\n",
            "date_location                    0\n",
            "duree_location                   0\n",
            "type_vehicule                    0\n",
            "type_carburant                   0\n",
            "lieu_location                    0\n",
            "kilométrage                    760\n",
            "prix_total                       0\n",
            "remise_appliquee                 0\n",
            "programme_fidelite_utilise       0\n",
            "premiere_location                0\n",
            "paiement_id                      0\n",
            "date_paiement                  179\n",
            "montant_paye                     0\n",
            "type_paiement                    0\n",
            "statut_paiement                  0\n",
            "remise_appliquée_en_%         8546\n",
            "dtype: int64\n",
            "avis_id          0\n",
            "client_id        0\n",
            "location_id      0\n",
            "note             0\n",
            "commentaire    437\n",
            "date_avis        0\n",
            "dtype: int64\n"
          ]
        }
      ],
      "source": [
        "print(clients.isna().sum())\n",
        "print(locations.isna().sum())\n",
        "print(paiements.isna().sum())\n",
        "print(avis_clients.isna().sum())"
      ]
    },
    {
      "cell_type": "markdown",
      "id": "a6e0d2cf",
      "metadata": {
        "id": "a6e0d2cf"
      },
      "source": [
        "### Question 7 : Remplacez les valeurs manquantes critiques et conservez celles qui sont pertinentes pour l'analyse."
      ]
    },
    {
      "cell_type": "markdown",
      "id": "L90zcqFBy2dO",
      "metadata": {
        "id": "L90zcqFBy2dO"
      },
      "source": [
        "Remplacez les valeurs manquantes suivantes :\n",
        "  - 'ville' : Remplacez par \"Inconnue\".\n",
        "  - 'métier' : Remplacez par \"Inconnu\".\n",
        "\n",
        "- Conservez les NaN pour :\n",
        "  - 'revenu_annuel' : Remplacez par la une valeur de la colonne comme la médiane pourrait fausser les analyses.\n",
        "  - 'kilométrage' : Remplacez par une valeur de la colonne comme la médiane pourrait fausser les analyses.\n",
        "  - 'date_paiement' : Peut être utile pour identifier les paiements en attente.\n",
        "  - 'commentaire' : Permet d’analyser le taux de clients laissant un avis."
      ]
    },
    {
      "cell_type": "code",
      "execution_count": 7,
      "id": "3ca0b991",
      "metadata": {
        "id": "3ca0b991"
      },
      "outputs": [],
      "source": [
        "clients.fillna({\"ville\": \"Inconnue\", \"métier\": \"Inconnu\"}, inplace=True)"
      ]
    },
    {
      "cell_type": "markdown",
      "id": "caa28b7f",
      "metadata": {
        "id": "caa28b7f"
      },
      "source": [
        "### Question 8 : Identifiez les clés de jointure entre les différentes tables."
      ]
    },
    {
      "cell_type": "code",
      "execution_count": 8,
      "id": "075bb105",
      "metadata": {
        "id": "075bb105"
      },
      "outputs": [
        {
          "name": "stdout",
          "output_type": "stream",
          "text": [
            "Clés de jointure possibles:\n",
            "- 'client_id' présent dans clients, locations, paiements, avis_clients\n",
            "- 'location_id' présent dans locations, paiements, avis_clients\n"
          ]
        }
      ],
      "source": [
        "print(\"Clés de jointure possibles:\")\n",
        "print(\"- 'client_id' présent dans clients, locations, paiements, avis_clients\")\n",
        "print(\"- 'location_id' présent dans locations, paiements, avis_clients\")"
      ]
    },
    {
      "cell_type": "markdown",
      "id": "359e4901",
      "metadata": {
        "id": "359e4901"
      },
      "source": [
        "### Question 9 : Consolidez les bases de données en une seule Master Database après le nettoyage."
      ]
    },
    {
      "cell_type": "code",
      "execution_count": 9,
      "id": "42eb4a28",
      "metadata": {
        "id": "42eb4a28"
      },
      "outputs": [],
      "source": [
        "master_df = locations.merge(clients, on=\"client_id\", how=\"left\")\n",
        "master_df = master_df.merge(paiements, on=\"location_id\", how=\"left\", suffixes=(\"\", \"_paiement\"))\n",
        "master_df = master_df.merge(avis_clients, on=\"location_id\", how=\"left\", suffixes=(\"\", \"_avis\"))"
      ]
    },
    {
      "cell_type": "code",
      "execution_count": 10,
      "id": "1yAP5x5QiFkZ",
      "metadata": {
        "colab": {
          "base_uri": "https://localhost:8080/",
          "height": 290
        },
        "id": "1yAP5x5QiFkZ",
        "outputId": "ad48ed7a-a4f8-4aa3-eb73-28709b2aa042"
      },
      "outputs": [
        {
          "data": {
            "application/vnd.microsoft.datawrangler.viewer.v0+json": {
              "columns": [
                {
                  "name": "index",
                  "rawType": "int64",
                  "type": "integer"
                },
                {
                  "name": "location_id",
                  "rawType": "int64",
                  "type": "integer"
                },
                {
                  "name": "client_id",
                  "rawType": "int64",
                  "type": "integer"
                },
                {
                  "name": "date_location",
                  "rawType": "datetime64[ns]",
                  "type": "datetime"
                },
                {
                  "name": "duree_location",
                  "rawType": "int64",
                  "type": "integer"
                },
                {
                  "name": "type_vehicule",
                  "rawType": "object",
                  "type": "string"
                },
                {
                  "name": "type_carburant",
                  "rawType": "object",
                  "type": "string"
                },
                {
                  "name": "lieu_location",
                  "rawType": "object",
                  "type": "string"
                },
                {
                  "name": "kilométrage",
                  "rawType": "float64",
                  "type": "float"
                },
                {
                  "name": "prix_total",
                  "rawType": "float64",
                  "type": "float"
                },
                {
                  "name": "remise_appliquee",
                  "rawType": "bool",
                  "type": "boolean"
                },
                {
                  "name": "programme_fidelite_utilise",
                  "rawType": "bool",
                  "type": "boolean"
                },
                {
                  "name": "premiere_location",
                  "rawType": "bool",
                  "type": "boolean"
                },
                {
                  "name": "date_inscription",
                  "rawType": "datetime64[ns]",
                  "type": "datetime"
                },
                {
                  "name": "genre",
                  "rawType": "object",
                  "type": "string"
                },
                {
                  "name": "age",
                  "rawType": "int64",
                  "type": "integer"
                },
                {
                  "name": "type_client",
                  "rawType": "object",
                  "type": "string"
                },
                {
                  "name": "ville",
                  "rawType": "object",
                  "type": "string"
                },
                {
                  "name": "pays",
                  "rawType": "object",
                  "type": "string"
                },
                {
                  "name": "programme_fidelite",
                  "rawType": "bool",
                  "type": "boolean"
                },
                {
                  "name": "nombre_locations_total",
                  "rawType": "int64",
                  "type": "integer"
                },
                {
                  "name": "revenu_annuel",
                  "rawType": "float64",
                  "type": "float"
                },
                {
                  "name": "métier",
                  "rawType": "object",
                  "type": "string"
                },
                {
                  "name": "client_id_paiement",
                  "rawType": "int64",
                  "type": "integer"
                },
                {
                  "name": "date_location_paiement",
                  "rawType": "datetime64[ns]",
                  "type": "datetime"
                },
                {
                  "name": "duree_location_paiement",
                  "rawType": "int64",
                  "type": "integer"
                },
                {
                  "name": "type_vehicule_paiement",
                  "rawType": "object",
                  "type": "string"
                },
                {
                  "name": "type_carburant_paiement",
                  "rawType": "object",
                  "type": "string"
                },
                {
                  "name": "lieu_location_paiement",
                  "rawType": "object",
                  "type": "string"
                },
                {
                  "name": "kilométrage_paiement",
                  "rawType": "float64",
                  "type": "float"
                },
                {
                  "name": "prix_total_paiement",
                  "rawType": "float64",
                  "type": "float"
                },
                {
                  "name": "remise_appliquee_paiement",
                  "rawType": "bool",
                  "type": "boolean"
                },
                {
                  "name": "programme_fidelite_utilise_paiement",
                  "rawType": "bool",
                  "type": "boolean"
                },
                {
                  "name": "premiere_location_paiement",
                  "rawType": "bool",
                  "type": "boolean"
                },
                {
                  "name": "paiement_id",
                  "rawType": "int64",
                  "type": "integer"
                },
                {
                  "name": "date_paiement",
                  "rawType": "datetime64[ns]",
                  "type": "datetime"
                },
                {
                  "name": "montant_paye",
                  "rawType": "float64",
                  "type": "float"
                },
                {
                  "name": "type_paiement",
                  "rawType": "object",
                  "type": "string"
                },
                {
                  "name": "statut_paiement",
                  "rawType": "object",
                  "type": "string"
                },
                {
                  "name": "remise_appliquée_en_%",
                  "rawType": "float64",
                  "type": "float"
                },
                {
                  "name": "avis_id",
                  "rawType": "float64",
                  "type": "float"
                },
                {
                  "name": "client_id_avis",
                  "rawType": "float64",
                  "type": "float"
                },
                {
                  "name": "note",
                  "rawType": "float64",
                  "type": "float"
                },
                {
                  "name": "commentaire",
                  "rawType": "object",
                  "type": "unknown"
                },
                {
                  "name": "date_avis",
                  "rawType": "datetime64[ns]",
                  "type": "datetime"
                }
              ],
              "ref": "1eb43a7a-6c06-4d98-93a4-42bcc2f39a88",
              "rows": [
                [
                  "0",
                  "1",
                  "4919",
                  "2025-01-31 00:00:00",
                  "15",
                  "Citadine",
                  "Diesel",
                  "Gare",
                  "497.0",
                  "932.07",
                  "True",
                  "True",
                  "False",
                  "2024-09-09 08:53:58.954094",
                  "Homme",
                  "37",
                  "Particulier",
                  "Bordeaux",
                  "France",
                  "True",
                  "7",
                  "32187.0",
                  "Étudiant",
                  "4919",
                  "2025-01-31 00:00:00",
                  "15",
                  "Citadine",
                  "Diesel",
                  "Gare",
                  "497.0",
                  "932.07",
                  "True",
                  "True",
                  "False",
                  "1",
                  "2025-01-31 00:00:00",
                  "932.07",
                  "Carte bancaire",
                  "Réussi",
                  "14.0",
                  "5179.0",
                  "4919.0",
                  "5.0",
                  "Parfait de A à Z !",
                  "2025-02-20 00:00:00"
                ],
                [
                  "1",
                  "2",
                  "14",
                  "2024-11-25 00:00:00",
                  "9",
                  "Citadine",
                  "Essence",
                  "Aéroport",
                  "231.0",
                  "675.4",
                  "False",
                  "True",
                  "False",
                  "2022-05-01 08:53:58.939248",
                  "Femme",
                  "66",
                  "Professionnel",
                  "Toulouse",
                  "France",
                  "True",
                  "2",
                  "72634.0",
                  "Étudiant",
                  "14",
                  "2024-11-25 00:00:00",
                  "9",
                  "Citadine",
                  "Essence",
                  "Aéroport",
                  "231.0",
                  "675.4",
                  "False",
                  "True",
                  "False",
                  "2",
                  "2024-11-24 00:00:00",
                  "675.4",
                  "Carte bancaire",
                  "Réussi",
                  null,
                  "2895.0",
                  "14.0",
                  "5.0",
                  "Excellent service !",
                  "2024-12-07 00:00:00"
                ],
                [
                  "2",
                  "3",
                  "440",
                  "2024-12-01 00:00:00",
                  "21",
                  "Citadine",
                  "Hybride",
                  "Centre-ville",
                  "453.0",
                  "896.7",
                  "False",
                  "False",
                  "True",
                  "2024-01-12 08:53:58.940659",
                  "Homme",
                  "23",
                  "Professionnel",
                  "Paris",
                  "France",
                  "False",
                  "1",
                  "73677.0",
                  "Étudiant",
                  "440",
                  "2024-12-01 00:00:00",
                  "21",
                  "Citadine",
                  "Hybride",
                  "Centre-ville",
                  "453.0",
                  "896.7",
                  "False",
                  "False",
                  "True",
                  "3",
                  "2024-11-30 00:00:00",
                  "896.7",
                  "Virement",
                  "Réussi",
                  null,
                  null,
                  null,
                  null,
                  null,
                  null
                ],
                [
                  "3",
                  "4",
                  "4089",
                  "2024-11-11 00:00:00",
                  "2",
                  "Citadine",
                  "Essence",
                  "Gare",
                  "944.0",
                  "185.61",
                  "False",
                  "False",
                  "False",
                  "2023-12-19 08:53:58.951444",
                  "Homme",
                  "35",
                  "Particulier",
                  "Paris",
                  "France",
                  "False",
                  "3",
                  "28380.0",
                  "Commerçant",
                  "4089",
                  "2024-11-11 00:00:00",
                  "2",
                  "Citadine",
                  "Essence",
                  "Gare",
                  "944.0",
                  "185.61",
                  "False",
                  "False",
                  "False",
                  "4",
                  "2024-11-10 00:00:00",
                  "185.61",
                  "Carte bancaire",
                  "Réussi",
                  null,
                  null,
                  null,
                  null,
                  null,
                  null
                ],
                [
                  "4",
                  "5",
                  "4554",
                  "2024-02-26 00:00:00",
                  "25",
                  "Berline",
                  "Hybride",
                  "Aéroport",
                  "173.0",
                  "1218.55",
                  "False",
                  "True",
                  "True",
                  "2024-10-20 08:53:58.952752",
                  "Femme",
                  "32",
                  "Particulier",
                  "Lille",
                  "France",
                  "True",
                  "1",
                  "42431.0",
                  "Cadre",
                  "4554",
                  "2024-02-26 00:00:00",
                  "25",
                  "Berline",
                  "Hybride",
                  "Aéroport",
                  "173.0",
                  "1218.55",
                  "False",
                  "True",
                  "True",
                  "5",
                  "2024-02-25 00:00:00",
                  "1218.55",
                  "PayPal",
                  "Réussi",
                  null,
                  null,
                  null,
                  null,
                  null,
                  null
                ]
              ],
              "shape": {
                "columns": 44,
                "rows": 5
              }
            },
            "text/html": [
              "<div>\n",
              "<style scoped>\n",
              "    .dataframe tbody tr th:only-of-type {\n",
              "        vertical-align: middle;\n",
              "    }\n",
              "\n",
              "    .dataframe tbody tr th {\n",
              "        vertical-align: top;\n",
              "    }\n",
              "\n",
              "    .dataframe thead th {\n",
              "        text-align: right;\n",
              "    }\n",
              "</style>\n",
              "<table border=\"1\" class=\"dataframe\">\n",
              "  <thead>\n",
              "    <tr style=\"text-align: right;\">\n",
              "      <th></th>\n",
              "      <th>location_id</th>\n",
              "      <th>client_id</th>\n",
              "      <th>date_location</th>\n",
              "      <th>duree_location</th>\n",
              "      <th>type_vehicule</th>\n",
              "      <th>type_carburant</th>\n",
              "      <th>lieu_location</th>\n",
              "      <th>kilométrage</th>\n",
              "      <th>prix_total</th>\n",
              "      <th>remise_appliquee</th>\n",
              "      <th>...</th>\n",
              "      <th>date_paiement</th>\n",
              "      <th>montant_paye</th>\n",
              "      <th>type_paiement</th>\n",
              "      <th>statut_paiement</th>\n",
              "      <th>remise_appliquée_en_%</th>\n",
              "      <th>avis_id</th>\n",
              "      <th>client_id_avis</th>\n",
              "      <th>note</th>\n",
              "      <th>commentaire</th>\n",
              "      <th>date_avis</th>\n",
              "    </tr>\n",
              "  </thead>\n",
              "  <tbody>\n",
              "    <tr>\n",
              "      <th>0</th>\n",
              "      <td>1</td>\n",
              "      <td>4919</td>\n",
              "      <td>2025-01-31</td>\n",
              "      <td>15</td>\n",
              "      <td>Citadine</td>\n",
              "      <td>Diesel</td>\n",
              "      <td>Gare</td>\n",
              "      <td>497.0</td>\n",
              "      <td>932.07</td>\n",
              "      <td>True</td>\n",
              "      <td>...</td>\n",
              "      <td>2025-01-31</td>\n",
              "      <td>932.07</td>\n",
              "      <td>Carte bancaire</td>\n",
              "      <td>Réussi</td>\n",
              "      <td>14.0</td>\n",
              "      <td>5179.0</td>\n",
              "      <td>4919.0</td>\n",
              "      <td>5.0</td>\n",
              "      <td>Parfait de A à Z !</td>\n",
              "      <td>2025-02-20</td>\n",
              "    </tr>\n",
              "    <tr>\n",
              "      <th>1</th>\n",
              "      <td>2</td>\n",
              "      <td>14</td>\n",
              "      <td>2024-11-25</td>\n",
              "      <td>9</td>\n",
              "      <td>Citadine</td>\n",
              "      <td>Essence</td>\n",
              "      <td>Aéroport</td>\n",
              "      <td>231.0</td>\n",
              "      <td>675.40</td>\n",
              "      <td>False</td>\n",
              "      <td>...</td>\n",
              "      <td>2024-11-24</td>\n",
              "      <td>675.40</td>\n",
              "      <td>Carte bancaire</td>\n",
              "      <td>Réussi</td>\n",
              "      <td>NaN</td>\n",
              "      <td>2895.0</td>\n",
              "      <td>14.0</td>\n",
              "      <td>5.0</td>\n",
              "      <td>Excellent service !</td>\n",
              "      <td>2024-12-07</td>\n",
              "    </tr>\n",
              "    <tr>\n",
              "      <th>2</th>\n",
              "      <td>3</td>\n",
              "      <td>440</td>\n",
              "      <td>2024-12-01</td>\n",
              "      <td>21</td>\n",
              "      <td>Citadine</td>\n",
              "      <td>Hybride</td>\n",
              "      <td>Centre-ville</td>\n",
              "      <td>453.0</td>\n",
              "      <td>896.70</td>\n",
              "      <td>False</td>\n",
              "      <td>...</td>\n",
              "      <td>2024-11-30</td>\n",
              "      <td>896.70</td>\n",
              "      <td>Virement</td>\n",
              "      <td>Réussi</td>\n",
              "      <td>NaN</td>\n",
              "      <td>NaN</td>\n",
              "      <td>NaN</td>\n",
              "      <td>NaN</td>\n",
              "      <td>NaN</td>\n",
              "      <td>NaT</td>\n",
              "    </tr>\n",
              "    <tr>\n",
              "      <th>3</th>\n",
              "      <td>4</td>\n",
              "      <td>4089</td>\n",
              "      <td>2024-11-11</td>\n",
              "      <td>2</td>\n",
              "      <td>Citadine</td>\n",
              "      <td>Essence</td>\n",
              "      <td>Gare</td>\n",
              "      <td>944.0</td>\n",
              "      <td>185.61</td>\n",
              "      <td>False</td>\n",
              "      <td>...</td>\n",
              "      <td>2024-11-10</td>\n",
              "      <td>185.61</td>\n",
              "      <td>Carte bancaire</td>\n",
              "      <td>Réussi</td>\n",
              "      <td>NaN</td>\n",
              "      <td>NaN</td>\n",
              "      <td>NaN</td>\n",
              "      <td>NaN</td>\n",
              "      <td>NaN</td>\n",
              "      <td>NaT</td>\n",
              "    </tr>\n",
              "    <tr>\n",
              "      <th>4</th>\n",
              "      <td>5</td>\n",
              "      <td>4554</td>\n",
              "      <td>2024-02-26</td>\n",
              "      <td>25</td>\n",
              "      <td>Berline</td>\n",
              "      <td>Hybride</td>\n",
              "      <td>Aéroport</td>\n",
              "      <td>173.0</td>\n",
              "      <td>1218.55</td>\n",
              "      <td>False</td>\n",
              "      <td>...</td>\n",
              "      <td>2024-02-25</td>\n",
              "      <td>1218.55</td>\n",
              "      <td>PayPal</td>\n",
              "      <td>Réussi</td>\n",
              "      <td>NaN</td>\n",
              "      <td>NaN</td>\n",
              "      <td>NaN</td>\n",
              "      <td>NaN</td>\n",
              "      <td>NaN</td>\n",
              "      <td>NaT</td>\n",
              "    </tr>\n",
              "  </tbody>\n",
              "</table>\n",
              "<p>5 rows × 44 columns</p>\n",
              "</div>"
            ],
            "text/plain": [
              "   location_id  client_id date_location  duree_location type_vehicule  \\\n",
              "0            1       4919    2025-01-31              15      Citadine   \n",
              "1            2         14    2024-11-25               9      Citadine   \n",
              "2            3        440    2024-12-01              21      Citadine   \n",
              "3            4       4089    2024-11-11               2      Citadine   \n",
              "4            5       4554    2024-02-26              25       Berline   \n",
              "\n",
              "  type_carburant lieu_location  kilométrage  prix_total  remise_appliquee  \\\n",
              "0         Diesel          Gare        497.0      932.07              True   \n",
              "1        Essence      Aéroport        231.0      675.40             False   \n",
              "2        Hybride  Centre-ville        453.0      896.70             False   \n",
              "3        Essence          Gare        944.0      185.61             False   \n",
              "4        Hybride      Aéroport        173.0     1218.55             False   \n",
              "\n",
              "   ...  date_paiement  montant_paye   type_paiement statut_paiement  \\\n",
              "0  ...     2025-01-31        932.07  Carte bancaire          Réussi   \n",
              "1  ...     2024-11-24        675.40  Carte bancaire          Réussi   \n",
              "2  ...     2024-11-30        896.70        Virement          Réussi   \n",
              "3  ...     2024-11-10        185.61  Carte bancaire          Réussi   \n",
              "4  ...     2024-02-25       1218.55          PayPal          Réussi   \n",
              "\n",
              "   remise_appliquée_en_% avis_id client_id_avis note          commentaire  \\\n",
              "0                   14.0  5179.0         4919.0  5.0   Parfait de A à Z !   \n",
              "1                    NaN  2895.0           14.0  5.0  Excellent service !   \n",
              "2                    NaN     NaN            NaN  NaN                  NaN   \n",
              "3                    NaN     NaN            NaN  NaN                  NaN   \n",
              "4                    NaN     NaN            NaN  NaN                  NaN   \n",
              "\n",
              "   date_avis  \n",
              "0 2025-02-20  \n",
              "1 2024-12-07  \n",
              "2        NaT  \n",
              "3        NaT  \n",
              "4        NaT  \n",
              "\n",
              "[5 rows x 44 columns]"
            ]
          },
          "execution_count": 10,
          "metadata": {},
          "output_type": "execute_result"
        }
      ],
      "source": [
        "master_df.head()"
      ]
    },
    {
      "cell_type": "markdown",
      "id": "f1b63391",
      "metadata": {
        "id": "f1b63391"
      },
      "source": [
        "## 3. Analyses statistiques"
      ]
    },
    {
      "cell_type": "markdown",
      "id": "lc8UeO9sJkKw",
      "metadata": {
        "id": "lc8UeO9sJkKw"
      },
      "source": [
        "### Question 10 : Aanalyser les statistiques descriptives des variables numériques pour comprendre leur distribution."
      ]
    },
    {
      "cell_type": "markdown",
      "id": "p-T_Vd-UJx2h",
      "metadata": {
        "id": "p-T_Vd-UJx2h"
      },
      "source": [
        "*Utiliser les variables numériques suivantes : \"revenu_annuel\", \"prix_total\", \"kilométrage\", \"duree_location\", \"montant_paye\", \"note\"*"
      ]
    },
    {
      "cell_type": "code",
      "execution_count": 11,
      "id": "ksdG8ev7JVox",
      "metadata": {
        "id": "ksdG8ev7JVox"
      },
      "outputs": [
        {
          "data": {
            "application/vnd.microsoft.datawrangler.viewer.v0+json": {
              "columns": [
                {
                  "name": "index",
                  "rawType": "object",
                  "type": "string"
                },
                {
                  "name": "revenu_annuel",
                  "rawType": "float64",
                  "type": "float"
                },
                {
                  "name": "prix_total",
                  "rawType": "float64",
                  "type": "float"
                },
                {
                  "name": "kilométrage",
                  "rawType": "float64",
                  "type": "float"
                },
                {
                  "name": "duree_location",
                  "rawType": "float64",
                  "type": "float"
                },
                {
                  "name": "montant_paye",
                  "rawType": "float64",
                  "type": "float"
                },
                {
                  "name": "note",
                  "rawType": "float64",
                  "type": "float"
                }
              ],
              "ref": "cec9e97c-9041-4383-af92-608d697c29af",
              "rows": [
                [
                  "count",
                  "8984.0",
                  "10000.0",
                  "9240.0",
                  "10000.0",
                  "10000.0",
                  "4509.0"
                ],
                [
                  "mean",
                  "49590.16195458593",
                  "1165.498457",
                  "523.6015151515152",
                  "15.4676",
                  "1165.498457",
                  "4.436682191173209"
                ],
                [
                  "std",
                  "17221.251447420083",
                  "797.8577274948219",
                  "273.59759499152875",
                  "8.632554797986169",
                  "797.8577274948219",
                  "0.8559998545653853"
                ],
                [
                  "min",
                  "20027.0",
                  "30.17",
                  "50.0",
                  "1.0",
                  "30.17",
                  "1.0"
                ],
                [
                  "25%",
                  "34847.5",
                  "522.7774999999999",
                  "286.0",
                  "8.0",
                  "522.7774999999999",
                  "4.0"
                ],
                [
                  "50%",
                  "49334.0",
                  "1009.45",
                  "520.0",
                  "15.0",
                  "1009.45",
                  "5.0"
                ],
                [
                  "75%",
                  "64331.0",
                  "1677.2825",
                  "759.25",
                  "23.0",
                  "1677.2825",
                  "5.0"
                ],
                [
                  "max",
                  "79999.0",
                  "3599.13",
                  "999.0",
                  "30.0",
                  "3599.13",
                  "5.0"
                ]
              ],
              "shape": {
                "columns": 6,
                "rows": 8
              }
            },
            "text/html": [
              "<div>\n",
              "<style scoped>\n",
              "    .dataframe tbody tr th:only-of-type {\n",
              "        vertical-align: middle;\n",
              "    }\n",
              "\n",
              "    .dataframe tbody tr th {\n",
              "        vertical-align: top;\n",
              "    }\n",
              "\n",
              "    .dataframe thead th {\n",
              "        text-align: right;\n",
              "    }\n",
              "</style>\n",
              "<table border=\"1\" class=\"dataframe\">\n",
              "  <thead>\n",
              "    <tr style=\"text-align: right;\">\n",
              "      <th></th>\n",
              "      <th>revenu_annuel</th>\n",
              "      <th>prix_total</th>\n",
              "      <th>kilométrage</th>\n",
              "      <th>duree_location</th>\n",
              "      <th>montant_paye</th>\n",
              "      <th>note</th>\n",
              "    </tr>\n",
              "  </thead>\n",
              "  <tbody>\n",
              "    <tr>\n",
              "      <th>count</th>\n",
              "      <td>8984.000000</td>\n",
              "      <td>10000.000000</td>\n",
              "      <td>9240.000000</td>\n",
              "      <td>10000.000000</td>\n",
              "      <td>10000.000000</td>\n",
              "      <td>4509.000000</td>\n",
              "    </tr>\n",
              "    <tr>\n",
              "      <th>mean</th>\n",
              "      <td>49590.161955</td>\n",
              "      <td>1165.498457</td>\n",
              "      <td>523.601515</td>\n",
              "      <td>15.467600</td>\n",
              "      <td>1165.498457</td>\n",
              "      <td>4.436682</td>\n",
              "    </tr>\n",
              "    <tr>\n",
              "      <th>std</th>\n",
              "      <td>17221.251447</td>\n",
              "      <td>797.857727</td>\n",
              "      <td>273.597595</td>\n",
              "      <td>8.632555</td>\n",
              "      <td>797.857727</td>\n",
              "      <td>0.856000</td>\n",
              "    </tr>\n",
              "    <tr>\n",
              "      <th>min</th>\n",
              "      <td>20027.000000</td>\n",
              "      <td>30.170000</td>\n",
              "      <td>50.000000</td>\n",
              "      <td>1.000000</td>\n",
              "      <td>30.170000</td>\n",
              "      <td>1.000000</td>\n",
              "    </tr>\n",
              "    <tr>\n",
              "      <th>25%</th>\n",
              "      <td>34847.500000</td>\n",
              "      <td>522.777500</td>\n",
              "      <td>286.000000</td>\n",
              "      <td>8.000000</td>\n",
              "      <td>522.777500</td>\n",
              "      <td>4.000000</td>\n",
              "    </tr>\n",
              "    <tr>\n",
              "      <th>50%</th>\n",
              "      <td>49334.000000</td>\n",
              "      <td>1009.450000</td>\n",
              "      <td>520.000000</td>\n",
              "      <td>15.000000</td>\n",
              "      <td>1009.450000</td>\n",
              "      <td>5.000000</td>\n",
              "    </tr>\n",
              "    <tr>\n",
              "      <th>75%</th>\n",
              "      <td>64331.000000</td>\n",
              "      <td>1677.282500</td>\n",
              "      <td>759.250000</td>\n",
              "      <td>23.000000</td>\n",
              "      <td>1677.282500</td>\n",
              "      <td>5.000000</td>\n",
              "    </tr>\n",
              "    <tr>\n",
              "      <th>max</th>\n",
              "      <td>79999.000000</td>\n",
              "      <td>3599.130000</td>\n",
              "      <td>999.000000</td>\n",
              "      <td>30.000000</td>\n",
              "      <td>3599.130000</td>\n",
              "      <td>5.000000</td>\n",
              "    </tr>\n",
              "  </tbody>\n",
              "</table>\n",
              "</div>"
            ],
            "text/plain": [
              "       revenu_annuel    prix_total  kilométrage  duree_location  montant_paye  \\\n",
              "count    8984.000000  10000.000000  9240.000000    10000.000000  10000.000000   \n",
              "mean    49590.161955   1165.498457   523.601515       15.467600   1165.498457   \n",
              "std     17221.251447    797.857727   273.597595        8.632555    797.857727   \n",
              "min     20027.000000     30.170000    50.000000        1.000000     30.170000   \n",
              "25%     34847.500000    522.777500   286.000000        8.000000    522.777500   \n",
              "50%     49334.000000   1009.450000   520.000000       15.000000   1009.450000   \n",
              "75%     64331.000000   1677.282500   759.250000       23.000000   1677.282500   \n",
              "max     79999.000000   3599.130000   999.000000       30.000000   3599.130000   \n",
              "\n",
              "              note  \n",
              "count  4509.000000  \n",
              "mean      4.436682  \n",
              "std       0.856000  \n",
              "min       1.000000  \n",
              "25%       4.000000  \n",
              "50%       5.000000  \n",
              "75%       5.000000  \n",
              "max       5.000000  "
            ]
          },
          "execution_count": 11,
          "metadata": {},
          "output_type": "execute_result"
        }
      ],
      "source": [
        "master_df[[\"revenu_annuel\", \"prix_total\", \"kilométrage\", \"duree_location\", \"montant_paye\", \"note\"]].describe()"
      ]
    },
    {
      "cell_type": "markdown",
      "id": "bI4CcQGHJ9ph",
      "metadata": {
        "id": "bI4CcQGHJ9ph"
      },
      "source": [
        "###Question 11 : Analysez les variables catégoriques en affichant la fréquence des valeurs uniques."
      ]
    },
    {
      "cell_type": "markdown",
      "id": "f_rfWC-dKdX7",
      "metadata": {
        "id": "f_rfWC-dKdX7"
      },
      "source": [
        "*Utiliser les variables catégorielles suivantes : \"type_vehicule\", \"lieu_location\", \"programme_fidelite\", \"statut_paiement\"*"
      ]
    },
    {
      "cell_type": "code",
      "execution_count": 12,
      "id": "0B68HRDwKb2x",
      "metadata": {
        "id": "0B68HRDwKb2x"
      },
      "outputs": [
        {
          "name": "stdout",
          "output_type": "stream",
          "text": [
            "\n",
            "les fréquences des valeurs unique de la colonne 'type_vehicule' sont:\n",
            "type_vehicule\n",
            "Citadine      4031\n",
            "SUV           2957\n",
            "Berline       1976\n",
            "Utilitaire    1036\n",
            "Name: count, dtype: int64\n",
            "\n",
            "les fréquences des valeurs unique de la colonne 'lieu_location' sont:\n",
            "lieu_location\n",
            "Aéroport        4073\n",
            "Centre-ville    2971\n",
            "Gare            2956\n",
            "Name: count, dtype: int64\n",
            "\n",
            "les fréquences des valeurs unique de la colonne 'programme_fidelite' sont:\n",
            "programme_fidelite\n",
            "False    7153\n",
            "True     2847\n",
            "Name: count, dtype: int64\n",
            "\n",
            "les fréquences des valeurs unique de la colonne 'statut_paiement' sont:\n",
            "statut_paiement\n",
            "Réussi    9787\n",
            "Échoué     213\n",
            "Name: count, dtype: int64\n"
          ]
        }
      ],
      "source": [
        "col_cat = [\"type_vehicule\", \"lieu_location\", \"programme_fidelite\", \"statut_paiement\"]\n",
        "\n",
        "for col in col_cat:\n",
        "    print(f\"\\nles fréquences des valeurs unique de la colonne '{col}' sont:\")\n",
        "    print(f\"{master_df[col].value_counts()}\")\n"
      ]
    },
    {
      "cell_type": "markdown",
      "id": "dd035132",
      "metadata": {
        "id": "dd035132"
      },
      "source": [
        "## 4. Détection des Valeurs Extrêmes/Aberrantes"
      ]
    },
    {
      "cell_type": "markdown",
      "id": "G7erF6zpzyHS",
      "metadata": {
        "id": "G7erF6zpzyHS"
      },
      "source": [
        "### Question 12 : Visualisez les valeurs aberrantes/extrêmes à l'aide de boxplots pour chaque variable concernée.\n",
        "\n",
        "*Nous allons nous concentrer uniquement sur les variables où des valeurs extrêmes pourraient fausser les analyses.\n",
        "Les variables sélectionnées pour cette analyse sont : revenu_annuel, prix_total, duree_location et note.*"
      ]
    },
    {
      "cell_type": "markdown",
      "id": "f1c7d0c0",
      "metadata": {},
      "source": [
        "### Boxplot revenu annuel"
      ]
    },
    {
      "cell_type": "code",
      "execution_count": 13,
      "id": "CbHCkQTRzwy5",
      "metadata": {
        "id": "CbHCkQTRzwy5"
      },
      "outputs": [
        {
          "data": {
            "image/png": "[encoded data removed]",
            "text/plain": [
              "<Figure size 640x480 with 1 Axes>"
            ]
          },
          "metadata": {},
          "output_type": "display_data"
        }
      ],
      "source": [
        "sns.boxplot(master_df['revenu_annuel'])\n",
        "plt.show()"
      ]
    },
    {
      "cell_type": "markdown",
      "id": "cbb369e0",
      "metadata": {},
      "source": [
        "#### Observations:\n",
        "   - On ne constate aucune valeur abérrante."
      ]
    },
    {
      "cell_type": "markdown",
      "id": "6163e0a5",
      "metadata": {},
      "source": [
        "### Boxplot prix_total"
      ]
    },
    {
      "cell_type": "code",
      "execution_count": 14,
      "id": "613795de",
      "metadata": {},
      "outputs": [
        {
          "data": {
            "image/png": "[encoded data removed]",
            "text/plain": [
              "<Figure size 640x480 with 1 Axes>"
            ]
          },
          "metadata": {},
          "output_type": "display_data"
        }
      ],
      "source": [
        "sns.boxplot(master_df['prix_total'])\n",
        "plt.show()"
      ]
    },
    {
      "cell_type": "markdown",
      "id": "6982b8a0",
      "metadata": {},
      "source": [
        "#### Observations:\n",
        "   - On constate des valeurs abérrantes au delà de 3500."
      ]
    },
    {
      "cell_type": "markdown",
      "id": "a6790004",
      "metadata": {},
      "source": [
        "### Boxplot durée de location"
      ]
    },
    {
      "cell_type": "code",
      "execution_count": 15,
      "id": "15eb115e",
      "metadata": {},
      "outputs": [
        {
          "data": {
            "image/png": "[encoded data removed]",
            "text/plain": [
              "<Figure size 640x480 with 1 Axes>"
            ]
          },
          "metadata": {},
          "output_type": "display_data"
        }
      ],
      "source": [
        "sns.boxplot(master_df['duree_location'])\n",
        "plt.show()"
      ]
    },
    {
      "cell_type": "markdown",
      "id": "6b751e47",
      "metadata": {},
      "source": [
        "#### Observations:\n",
        "   - On ne constate aucune valeur abérrante."
      ]
    },
    {
      "cell_type": "markdown",
      "id": "dab54851",
      "metadata": {},
      "source": [
        "### Boxplot notes"
      ]
    },
    {
      "cell_type": "code",
      "execution_count": 16,
      "id": "6d5dc32e",
      "metadata": {},
      "outputs": [
        {
          "data": {
            "image/png": "[encoded data removed]",
            "text/plain": [
              "<Figure size 640x480 with 1 Axes>"
            ]
          },
          "metadata": {},
          "output_type": "display_data"
        }
      ],
      "source": [
        "sns.boxplot(master_df['note'])\n",
        "plt.show()"
      ]
    },
    {
      "cell_type": "markdown",
      "id": "6bd53cb9",
      "metadata": {},
      "source": [
        "#### Observations:\n",
        "   - On constate des valeurs abérrantes en dessous de la note de 3."
      ]
    },
    {
      "cell_type": "markdown",
      "id": "866def1a",
      "metadata": {},
      "source": [
        "*******************************************************************************************************"
      ]
    },
    {
      "cell_type": "markdown",
      "id": "6d3c6402",
      "metadata": {
        "id": "6d3c6402"
      },
      "source": [
        "### Question 13 : Identifiez les valeurs aberrantes/extrêmes en utilisant la méthode de l'écart interquartile (IQR). Que constatez-vous ?"
      ]
    },
    {
      "cell_type": "markdown",
      "id": "DOx0FrKAzVBx",
      "metadata": {
        "id": "DOx0FrKAzVBx"
      },
      "source": [
        "*Nous allons nous concentrer uniquement sur les variables où des valeurs extrêmes pourraient fausser les analyses.\n",
        "Les variables sélectionnées pour cette analyse sont : revenu_annuel, prix_total, duree_location et note.*\n",
        "\n",
        "> _Attention, la fonction `np.percentile()` ne fonctionnent pas correctement lorsque des valeurs manquantes sont présentes, préférer la méthode `.quantile()`_"
      ]
    },
    {
      "cell_type": "markdown",
      "id": "5360a51a",
      "metadata": {},
      "source": [
        "* Nous allons rechercher les quartiles, écarts interquartiles, bornes supérieure et inférieure et en déduire les valeurs extrêmes"
      ]
    },
    {
      "cell_type": "code",
      "execution_count": 17,
      "id": "c9c7a4c6",
      "metadata": {
        "id": "c9c7a4c6"
      },
      "outputs": [
        {
          "name": "stdout",
          "output_type": "stream",
          "text": [
            "\n",
            "'revenu_annuel'\n",
            "premier quartile : 34847.5\n",
            "troisième quartile: 64331.0\n",
            "écart interquartile : 29483.5\n",
            "borne inférieure : -9377.75\n",
            "borne supérieure : 108556.25\n",
            "    il y a 0 valeurs aberrantes/extrêmes\n",
            "\n",
            "'prix_total'\n",
            "premier quartile : 522.7774999999999\n",
            "troisième quartile: 1677.2825\n",
            "écart interquartile : 1154.505\n",
            "borne inférieure : -1208.9800000000002\n",
            "borne supérieure : 3409.04\n",
            "    il y a 33 valeurs aberrantes/extrêmes\n",
            "\n",
            "'duree_location'\n",
            "premier quartile : 8.0\n",
            "troisième quartile: 23.0\n",
            "écart interquartile : 15.0\n",
            "borne inférieure : -14.5\n",
            "borne supérieure : 45.5\n",
            "    il y a 0 valeurs aberrantes/extrêmes\n",
            "\n",
            "'note'\n",
            "premier quartile : 4.0\n",
            "troisième quartile: 5.0\n",
            "écart interquartile : 1.0\n",
            "borne inférieure : 2.5\n",
            "borne supérieure : 6.5\n",
            "    il y a 204 valeurs aberrantes/extrêmes\n"
          ]
        }
      ],
      "source": [
        "# Nous allons rechercher les quartiles, écarts interquartiles, bornes supérieure et inférieure et en déduire les valeurs extrêmes\n",
        "col_outliers = [\"revenu_annuel\", \"prix_total\", \"duree_location\", \"note\"]\n",
        "\n",
        "for col in col_outliers:\n",
        "    Q1 = master_df[col].quantile(0.25)\n",
        "    Q3 = master_df[col].quantile(0.75)\n",
        "    IQR = Q3-Q1\n",
        "\n",
        "    BInf = Q1 - 1.5 * IQR\n",
        "    BSup = Q3 + 1.5 * IQR\n",
        "    print(f\"\\n'{col}'\")\n",
        "    print(f\"premier quartile : {Q1}\")\n",
        "    print(f\"troisième quartile: {Q3}\")\n",
        "    print(f\"écart interquartile : {IQR}\")\n",
        "    print(f\"borne inférieure : {BInf}\")\n",
        "    print(f\"borne supérieure : {BSup}\")\n",
        "\n",
        "    outliers = []\n",
        "    for x in master_df[col]:\n",
        "        if x > BSup or x < BInf:\n",
        "            outliers.append(x)\n",
        "        else:\n",
        "            continue\n",
        "    print(f\"    il y a {len(outliers)} valeurs aberrantes/extrêmes\")\n",
        "\n"
      ]
    },
    {
      "cell_type": "markdown",
      "id": "7a24b422",
      "metadata": {},
      "source": [
        "* Les variables 'revenu_annuel' et 'duree_location' ne contiennent aucune valeurs abberantes\n",
        "* le nombre de valeurs abberantes de la variable 'prix_total' n'est pas significative puisque qu'il y en a 33 pour 1000 valeurs au total\n",
        "* le nombre de valeurs abberantes est le plus élevé pour la variable 'note' 204 pour 4509 valeurs soit 4,5%"
      ]
    },
    {
      "cell_type": "markdown",
      "id": "dbffc298",
      "metadata": {},
      "source": [
        "*********************"
      ]
    },
    {
      "cell_type": "markdown",
      "id": "yPNfkVpTz3_k",
      "metadata": {
        "id": "yPNfkVpTz3_k"
      },
      "source": [
        "### Question 14 : Supprimer les lignes contenant des valeurs aberrantes/extrêmes dans ces colonnes est une bonne idée ou non ?"
      ]
    },
    {
      "cell_type": "markdown",
      "id": "EockivQPz8NF",
      "metadata": {
        "id": "EockivQPz8NF"
      },
      "source": [
        "*Utilisez une copie du DataFrame master_df pour vérifier cela sans le modifier.*\n",
        "\n",
        "*Pensez à remplacer les valeurs manquantes.*"
      ]
    },
    {
      "cell_type": "code",
      "execution_count": 18,
      "id": "BZstpagR0Evs",
      "metadata": {
        "id": "BZstpagR0Evs"
      },
      "outputs": [
        {
          "data": {
            "application/vnd.microsoft.datawrangler.viewer.v0+json": {
              "columns": [
                {
                  "name": "index",
                  "rawType": "int64",
                  "type": "integer"
                },
                {
                  "name": "location_id",
                  "rawType": "int64",
                  "type": "integer"
                },
                {
                  "name": "client_id",
                  "rawType": "int64",
                  "type": "integer"
                },
                {
                  "name": "date_location",
                  "rawType": "datetime64[ns]",
                  "type": "datetime"
                },
                {
                  "name": "duree_location",
                  "rawType": "int64",
                  "type": "integer"
                },
                {
                  "name": "type_vehicule",
                  "rawType": "object",
                  "type": "string"
                },
                {
                  "name": "type_carburant",
                  "rawType": "object",
                  "type": "string"
                },
                {
                  "name": "lieu_location",
                  "rawType": "object",
                  "type": "string"
                },
                {
                  "name": "kilométrage",
                  "rawType": "float64",
                  "type": "float"
                },
                {
                  "name": "prix_total",
                  "rawType": "float64",
                  "type": "float"
                },
                {
                  "name": "remise_appliquee",
                  "rawType": "bool",
                  "type": "boolean"
                },
                {
                  "name": "programme_fidelite_utilise",
                  "rawType": "bool",
                  "type": "boolean"
                },
                {
                  "name": "premiere_location",
                  "rawType": "bool",
                  "type": "boolean"
                },
                {
                  "name": "date_inscription",
                  "rawType": "datetime64[ns]",
                  "type": "datetime"
                },
                {
                  "name": "genre",
                  "rawType": "object",
                  "type": "string"
                },
                {
                  "name": "age",
                  "rawType": "int64",
                  "type": "integer"
                },
                {
                  "name": "type_client",
                  "rawType": "object",
                  "type": "string"
                },
                {
                  "name": "ville",
                  "rawType": "object",
                  "type": "string"
                },
                {
                  "name": "pays",
                  "rawType": "object",
                  "type": "string"
                },
                {
                  "name": "programme_fidelite",
                  "rawType": "bool",
                  "type": "boolean"
                },
                {
                  "name": "nombre_locations_total",
                  "rawType": "int64",
                  "type": "integer"
                },
                {
                  "name": "revenu_annuel",
                  "rawType": "float64",
                  "type": "float"
                },
                {
                  "name": "métier",
                  "rawType": "object",
                  "type": "string"
                },
                {
                  "name": "client_id_paiement",
                  "rawType": "int64",
                  "type": "integer"
                },
                {
                  "name": "date_location_paiement",
                  "rawType": "datetime64[ns]",
                  "type": "datetime"
                },
                {
                  "name": "duree_location_paiement",
                  "rawType": "int64",
                  "type": "integer"
                },
                {
                  "name": "type_vehicule_paiement",
                  "rawType": "object",
                  "type": "string"
                },
                {
                  "name": "type_carburant_paiement",
                  "rawType": "object",
                  "type": "string"
                },
                {
                  "name": "lieu_location_paiement",
                  "rawType": "object",
                  "type": "string"
                },
                {
                  "name": "kilométrage_paiement",
                  "rawType": "float64",
                  "type": "float"
                },
                {
                  "name": "prix_total_paiement",
                  "rawType": "float64",
                  "type": "float"
                },
                {
                  "name": "remise_appliquee_paiement",
                  "rawType": "bool",
                  "type": "boolean"
                },
                {
                  "name": "programme_fidelite_utilise_paiement",
                  "rawType": "bool",
                  "type": "boolean"
                },
                {
                  "name": "premiere_location_paiement",
                  "rawType": "bool",
                  "type": "boolean"
                },
                {
                  "name": "paiement_id",
                  "rawType": "int64",
                  "type": "integer"
                },
                {
                  "name": "date_paiement",
                  "rawType": "datetime64[ns]",
                  "type": "datetime"
                },
                {
                  "name": "montant_paye",
                  "rawType": "float64",
                  "type": "float"
                },
                {
                  "name": "type_paiement",
                  "rawType": "object",
                  "type": "string"
                },
                {
                  "name": "statut_paiement",
                  "rawType": "object",
                  "type": "string"
                },
                {
                  "name": "remise_appliquée_en_%",
                  "rawType": "float64",
                  "type": "float"
                },
                {
                  "name": "avis_id",
                  "rawType": "float64",
                  "type": "float"
                },
                {
                  "name": "client_id_avis",
                  "rawType": "float64",
                  "type": "float"
                },
                {
                  "name": "note",
                  "rawType": "float64",
                  "type": "float"
                },
                {
                  "name": "commentaire",
                  "rawType": "object",
                  "type": "unknown"
                },
                {
                  "name": "date_avis",
                  "rawType": "datetime64[ns]",
                  "type": "datetime"
                }
              ],
              "ref": "74a37360-766f-4eeb-a752-34bf0d572a42",
              "rows": [
                [
                  "0",
                  "1",
                  "4919",
                  "2025-01-31 00:00:00",
                  "15",
                  "Citadine",
                  "Diesel",
                  "Gare",
                  "497.0",
                  "932.07",
                  "True",
                  "True",
                  "False",
                  "2024-09-09 08:53:58.954094",
                  "Homme",
                  "37",
                  "Particulier",
                  "Bordeaux",
                  "France",
                  "True",
                  "7",
                  "32187.0",
                  "Étudiant",
                  "4919",
                  "2025-01-31 00:00:00",
                  "15",
                  "Citadine",
                  "Diesel",
                  "Gare",
                  "497.0",
                  "932.07",
                  "True",
                  "True",
                  "False",
                  "1",
                  "2025-01-31 00:00:00",
                  "932.07",
                  "Carte bancaire",
                  "Réussi",
                  "14.0",
                  "5179.0",
                  "4919.0",
                  "5.0",
                  "Parfait de A à Z !",
                  "2025-02-20 00:00:00"
                ],
                [
                  "1",
                  "2",
                  "14",
                  "2024-11-25 00:00:00",
                  "9",
                  "Citadine",
                  "Essence",
                  "Aéroport",
                  "231.0",
                  "675.4",
                  "False",
                  "True",
                  "False",
                  "2022-05-01 08:53:58.939248",
                  "Femme",
                  "66",
                  "Professionnel",
                  "Toulouse",
                  "France",
                  "True",
                  "2",
                  "72634.0",
                  "Étudiant",
                  "14",
                  "2024-11-25 00:00:00",
                  "9",
                  "Citadine",
                  "Essence",
                  "Aéroport",
                  "231.0",
                  "675.4",
                  "False",
                  "True",
                  "False",
                  "2",
                  "2024-11-24 00:00:00",
                  "675.4",
                  "Carte bancaire",
                  "Réussi",
                  null,
                  "2895.0",
                  "14.0",
                  "5.0",
                  "Excellent service !",
                  "2024-12-07 00:00:00"
                ],
                [
                  "2",
                  "3",
                  "440",
                  "2024-12-01 00:00:00",
                  "21",
                  "Citadine",
                  "Hybride",
                  "Centre-ville",
                  "453.0",
                  "896.7",
                  "False",
                  "False",
                  "True",
                  "2024-01-12 08:53:58.940659",
                  "Homme",
                  "23",
                  "Professionnel",
                  "Paris",
                  "France",
                  "False",
                  "1",
                  "73677.0",
                  "Étudiant",
                  "440",
                  "2024-12-01 00:00:00",
                  "21",
                  "Citadine",
                  "Hybride",
                  "Centre-ville",
                  "453.0",
                  "896.7",
                  "False",
                  "False",
                  "True",
                  "3",
                  "2024-11-30 00:00:00",
                  "896.7",
                  "Virement",
                  "Réussi",
                  null,
                  null,
                  null,
                  null,
                  null,
                  null
                ],
                [
                  "3",
                  "4",
                  "4089",
                  "2024-11-11 00:00:00",
                  "2",
                  "Citadine",
                  "Essence",
                  "Gare",
                  "944.0",
                  "185.61",
                  "False",
                  "False",
                  "False",
                  "2023-12-19 08:53:58.951444",
                  "Homme",
                  "35",
                  "Particulier",
                  "Paris",
                  "France",
                  "False",
                  "3",
                  "28380.0",
                  "Commerçant",
                  "4089",
                  "2024-11-11 00:00:00",
                  "2",
                  "Citadine",
                  "Essence",
                  "Gare",
                  "944.0",
                  "185.61",
                  "False",
                  "False",
                  "False",
                  "4",
                  "2024-11-10 00:00:00",
                  "185.61",
                  "Carte bancaire",
                  "Réussi",
                  null,
                  null,
                  null,
                  null,
                  null,
                  null
                ],
                [
                  "4",
                  "5",
                  "4554",
                  "2024-02-26 00:00:00",
                  "25",
                  "Berline",
                  "Hybride",
                  "Aéroport",
                  "173.0",
                  "1218.55",
                  "False",
                  "True",
                  "True",
                  "2024-10-20 08:53:58.952752",
                  "Femme",
                  "32",
                  "Particulier",
                  "Lille",
                  "France",
                  "True",
                  "1",
                  "42431.0",
                  "Cadre",
                  "4554",
                  "2024-02-26 00:00:00",
                  "25",
                  "Berline",
                  "Hybride",
                  "Aéroport",
                  "173.0",
                  "1218.55",
                  "False",
                  "True",
                  "True",
                  "5",
                  "2024-02-25 00:00:00",
                  "1218.55",
                  "PayPal",
                  "Réussi",
                  null,
                  null,
                  null,
                  null,
                  null,
                  null
                ],
                [
                  "5",
                  "6",
                  "4067",
                  "2024-11-22 00:00:00",
                  "29",
                  "SUV",
                  "Hybride",
                  "Gare",
                  "855.0",
                  "1620.34",
                  "False",
                  "False",
                  "False",
                  "2022-10-30 08:53:58.951389",
                  "Femme",
                  "18",
                  "Particulier",
                  "Toulouse",
                  "France",
                  "False",
                  "4",
                  "47806.0",
                  "Cadre",
                  "4067",
                  "2024-11-22 00:00:00",
                  "29",
                  "SUV",
                  "Hybride",
                  "Gare",
                  "855.0",
                  "1620.34",
                  "False",
                  "False",
                  "False",
                  "6",
                  "2024-11-21 00:00:00",
                  "1620.34",
                  "Carte bancaire",
                  "Réussi",
                  null,
                  null,
                  null,
                  null,
                  null,
                  null
                ],
                [
                  "6",
                  "7",
                  "772",
                  "2025-01-29 00:00:00",
                  "19",
                  "Citadine",
                  "Diesel",
                  "Gare",
                  "650.0",
                  "1184.23",
                  "False",
                  "False",
                  "False",
                  "2023-08-28 08:53:58.941623",
                  "Femme",
                  "62",
                  "Professionnel",
                  "Nantes",
                  "France",
                  "False",
                  "5",
                  "67226.0",
                  "Sans emploi",
                  "772",
                  "2025-01-29 00:00:00",
                  "19",
                  "Citadine",
                  "Diesel",
                  "Gare",
                  "650.0",
                  "1184.23",
                  "False",
                  "False",
                  "False",
                  "7",
                  "2025-01-28 00:00:00",
                  "1184.23",
                  "Carte bancaire",
                  "Réussi",
                  null,
                  "5904.0",
                  "772.0",
                  "4.0",
                  "Voiture récente et propre",
                  "2025-02-24 00:00:00"
                ],
                [
                  "7",
                  "8",
                  "464",
                  "2025-01-01 00:00:00",
                  "1",
                  "Berline",
                  "Diesel",
                  "Aéroport",
                  "530.0",
                  "83.45",
                  "False",
                  "False",
                  "False",
                  "2022-11-29 08:53:58.940736",
                  "Femme",
                  "31",
                  "Particulier",
                  "Paris",
                  "France",
                  "False",
                  "3",
                  null,
                  "Artisan",
                  "464",
                  "2025-01-01 00:00:00",
                  "1",
                  "Berline",
                  "Diesel",
                  "Aéroport",
                  "530.0",
                  "83.45",
                  "False",
                  "False",
                  "False",
                  "8",
                  "2024-12-30 00:00:00",
                  "83.45",
                  "Carte bancaire",
                  "Réussi",
                  null,
                  null,
                  null,
                  null,
                  null,
                  null
                ],
                [
                  "8",
                  "9",
                  "1053",
                  "2024-03-28 00:00:00",
                  "14",
                  "SUV",
                  "Essence",
                  "Centre-ville",
                  "672.0",
                  "769.53",
                  "False",
                  "False",
                  "True",
                  "2024-12-09 08:53:58.942405",
                  "Homme",
                  "54",
                  "Particulier",
                  "Bordeaux",
                  "France",
                  "False",
                  "1",
                  "47289.0",
                  "Commerçant",
                  "1053",
                  "2024-03-28 00:00:00",
                  "14",
                  "SUV",
                  "Essence",
                  "Centre-ville",
                  "672.0",
                  "769.53",
                  "False",
                  "False",
                  "True",
                  "9",
                  "2024-03-27 00:00:00",
                  "769.53",
                  "PayPal",
                  "Réussi",
                  null,
                  null,
                  null,
                  null,
                  null,
                  null
                ],
                [
                  "9",
                  "10",
                  "1458",
                  "2024-11-08 00:00:00",
                  "2",
                  "Berline",
                  "Électrique",
                  "Centre-ville",
                  "700.0",
                  "151.0",
                  "False",
                  "False",
                  "True",
                  "2023-11-13 08:53:58.943969",
                  "Homme",
                  "72",
                  "Particulier",
                  "Nantes",
                  "France",
                  "False",
                  "1",
                  "47833.0",
                  "Commerçant",
                  "1458",
                  "2024-11-08 00:00:00",
                  "2",
                  "Berline",
                  "Électrique",
                  "Centre-ville",
                  "700.0",
                  "151.0",
                  "False",
                  "False",
                  "True",
                  "10",
                  "2024-11-07 00:00:00",
                  "151.0",
                  "Carte bancaire",
                  "Réussi",
                  null,
                  "2328.0",
                  "1458.0",
                  "3.0",
                  "Correct mais sans plus",
                  "2024-11-12 00:00:00"
                ],
                [
                  "10",
                  "11",
                  "3116",
                  "2024-03-04 00:00:00",
                  "26",
                  "SUV",
                  "Essence",
                  "Aéroport",
                  "713.0",
                  "1777.81",
                  "False",
                  "False",
                  "False",
                  "2024-03-21 08:53:58.948880",
                  "Homme",
                  "34",
                  "Particulier",
                  "Toulouse",
                  "France",
                  "False",
                  "2",
                  "59943.0",
                  "Cadre",
                  "3116",
                  "2024-03-04 00:00:00",
                  "26",
                  "SUV",
                  "Essence",
                  "Aéroport",
                  "713.0",
                  "1777.81",
                  "False",
                  "False",
                  "False",
                  "11",
                  "2024-03-03 00:00:00",
                  "1777.81",
                  "PayPal",
                  "Réussi",
                  null,
                  null,
                  null,
                  null,
                  null,
                  null
                ],
                [
                  "11",
                  "12",
                  "2456",
                  "2024-12-27 00:00:00",
                  "27",
                  "Citadine",
                  "Essence",
                  "Aéroport",
                  "601.0",
                  "1187.95",
                  "False",
                  "False",
                  "False",
                  "2023-05-23 08:53:58.946721",
                  "Femme",
                  "33",
                  "Professionnel",
                  "Strasbourg",
                  "France",
                  "False",
                  "5",
                  "79072.0",
                  "Étudiant",
                  "2456",
                  "2024-12-27 00:00:00",
                  "27",
                  "Citadine",
                  "Essence",
                  "Aéroport",
                  "601.0",
                  "1187.95",
                  "False",
                  "False",
                  "False",
                  "12",
                  "2024-12-26 00:00:00",
                  "1187.95",
                  "Carte bancaire",
                  "Réussi",
                  null,
                  null,
                  null,
                  null,
                  null,
                  null
                ],
                [
                  "12",
                  "13",
                  "4746",
                  "2024-08-24 00:00:00",
                  "18",
                  "Utilitaire",
                  "Diesel",
                  "Aéroport",
                  "972.0",
                  "644.91",
                  "False",
                  "False",
                  "True",
                  "2022-09-20 08:53:58.953305",
                  "Femme",
                  "78",
                  "Particulier",
                  "Bordeaux",
                  "France",
                  "False",
                  "1",
                  "50407.0",
                  "Cadre",
                  "4746",
                  "2024-08-24 00:00:00",
                  "18",
                  "Utilitaire",
                  "Diesel",
                  "Aéroport",
                  "972.0",
                  "644.91",
                  "False",
                  "False",
                  "True",
                  "13",
                  "2024-08-22 00:00:00",
                  "644.91",
                  "PayPal",
                  "Réussi",
                  null,
                  null,
                  null,
                  null,
                  null,
                  null
                ],
                [
                  "13",
                  "14",
                  "2256",
                  "2024-08-14 00:00:00",
                  "18",
                  "Utilitaire",
                  "Essence",
                  "Gare",
                  "885.0",
                  "570.38",
                  "True",
                  "True",
                  "True",
                  "2022-03-03 08:53:58.946175",
                  "Femme",
                  "49",
                  "Particulier",
                  "Marseille",
                  "France",
                  "True",
                  "1",
                  "46792.0",
                  "Artisan",
                  "2256",
                  "2024-08-14 00:00:00",
                  "18",
                  "Utilitaire",
                  "Essence",
                  "Gare",
                  "885.0",
                  "570.38",
                  "True",
                  "True",
                  "True",
                  "14",
                  "2024-08-13 00:00:00",
                  "570.38",
                  "Carte bancaire",
                  "Réussi",
                  "17.0",
                  null,
                  null,
                  null,
                  null,
                  null
                ],
                [
                  "14",
                  "15",
                  "350",
                  "2025-01-19 00:00:00",
                  "8",
                  "SUV",
                  "Essence",
                  "Centre-ville",
                  "176.0",
                  "603.09",
                  "False",
                  "False",
                  "True",
                  "2023-05-09 08:53:58.940327",
                  "Homme",
                  "61",
                  "Particulier",
                  "Nice",
                  "France",
                  "False",
                  "1",
                  "66535.0",
                  "Cadre",
                  "350",
                  "2025-01-19 00:00:00",
                  "8",
                  "SUV",
                  "Essence",
                  "Centre-ville",
                  "176.0",
                  "603.09",
                  "False",
                  "False",
                  "True",
                  "15",
                  "2025-01-17 00:00:00",
                  "603.09",
                  "PayPal",
                  "Réussi",
                  null,
                  "1698.0",
                  "350.0",
                  "5.0",
                  "Parfait de A à Z !",
                  "2025-01-28 00:00:00"
                ],
                [
                  "15",
                  "16",
                  "68",
                  "2024-02-27 00:00:00",
                  "21",
                  "Citadine",
                  "Essence",
                  "Aéroport",
                  "414.0",
                  "1115.29",
                  "False",
                  "False",
                  "False",
                  "2024-04-01 08:53:58.939432",
                  "Homme",
                  "54",
                  "Particulier",
                  "Paris",
                  "France",
                  "False",
                  "2",
                  "52332.0",
                  "Commerçant",
                  "68",
                  "2024-02-27 00:00:00",
                  "21",
                  "Citadine",
                  "Essence",
                  "Aéroport",
                  "414.0",
                  "1115.29",
                  "False",
                  "False",
                  "False",
                  "16",
                  "2024-02-27 00:00:00",
                  "1115.29",
                  "Virement",
                  "Réussi",
                  null,
                  "5879.0",
                  "68.0",
                  "5.0",
                  "Excellent service !",
                  "2024-03-20 00:00:00"
                ],
                [
                  "16",
                  "17",
                  "1698",
                  "2024-07-19 00:00:00",
                  "25",
                  "Berline",
                  "Essence",
                  "Centre-ville",
                  "307.0",
                  "1231.5",
                  "False",
                  "False",
                  "False",
                  "2022-05-03 08:53:58.944639",
                  "Homme",
                  "20",
                  "Professionnel",
                  "Bordeaux",
                  "France",
                  "False",
                  "2",
                  "63052.0",
                  "Retraité",
                  "1698",
                  "2024-07-19 00:00:00",
                  "25",
                  "Berline",
                  "Essence",
                  "Centre-ville",
                  "307.0",
                  "1231.5",
                  "False",
                  "False",
                  "False",
                  "17",
                  "2024-07-17 00:00:00",
                  "1231.5",
                  "Carte bancaire",
                  "Réussi",
                  null,
                  null,
                  null,
                  null,
                  null,
                  null
                ],
                [
                  "17",
                  "18",
                  "3146",
                  "2025-02-16 00:00:00",
                  "25",
                  "Citadine",
                  "Diesel",
                  "Centre-ville",
                  "682.0",
                  "1635.34",
                  "False",
                  "True",
                  "False",
                  "2022-11-16 08:53:58.948966",
                  "Homme",
                  "76",
                  "Particulier",
                  "Marseille",
                  "France",
                  "True",
                  "6",
                  "69945.0",
                  "Artisan",
                  "3146",
                  "2025-02-16 00:00:00",
                  "25",
                  "Citadine",
                  "Diesel",
                  "Centre-ville",
                  "682.0",
                  "1635.34",
                  "False",
                  "True",
                  "False",
                  "18",
                  "2025-02-15 00:00:00",
                  "1635.34",
                  "Carte bancaire",
                  "Réussi",
                  null,
                  null,
                  null,
                  null,
                  null,
                  null
                ],
                [
                  "18",
                  "19",
                  "382",
                  "2024-09-29 00:00:00",
                  "20",
                  "Berline",
                  "Essence",
                  "Aéroport",
                  null,
                  "1585.99",
                  "True",
                  "True",
                  "False",
                  "2023-06-14 08:53:58.940441",
                  "Femme",
                  "40",
                  "Professionnel",
                  "Lyon",
                  "France",
                  "True",
                  "2",
                  "37340.0",
                  "Retraité",
                  "382",
                  "2024-09-29 00:00:00",
                  "20",
                  "Berline",
                  "Essence",
                  "Aéroport",
                  null,
                  "1585.99",
                  "True",
                  "True",
                  "False",
                  "19",
                  "2024-09-27 00:00:00",
                  "1585.99",
                  "Carte bancaire",
                  "Réussi",
                  "8.0",
                  "1168.0",
                  "382.0",
                  "4.0",
                  "Très bonne expérience",
                  "2024-10-21 00:00:00"
                ],
                [
                  "19",
                  "20",
                  "701",
                  "2024-06-22 00:00:00",
                  "16",
                  "Berline",
                  "Essence",
                  "Aéroport",
                  "798.0",
                  "954.46",
                  "False",
                  "False",
                  "True",
                  "2024-02-18 08:53:58.941410",
                  "Homme",
                  "34",
                  "Professionnel",
                  "Paris",
                  "France",
                  "False",
                  "1",
                  "29780.0",
                  "Étudiant",
                  "701",
                  "2024-06-22 00:00:00",
                  "16",
                  "Berline",
                  "Essence",
                  "Aéroport",
                  "798.0",
                  "954.46",
                  "False",
                  "False",
                  "True",
                  "20",
                  "2024-06-21 00:00:00",
                  "954.46",
                  "PayPal",
                  "Réussi",
                  null,
                  "3906.0",
                  "701.0",
                  "3.0",
                  "Peu de choix de véhicules",
                  "2024-07-15 00:00:00"
                ],
                [
                  "20",
                  "21",
                  "3746",
                  "2024-08-25 00:00:00",
                  "27",
                  "Citadine",
                  "Diesel",
                  "Aéroport",
                  "641.0",
                  "928.19",
                  "False",
                  "False",
                  "False",
                  "2023-02-22 08:53:58.950570",
                  "Femme",
                  "76",
                  "Particulier",
                  "Lyon",
                  "France",
                  "False",
                  "3",
                  "45236.0",
                  "Inconnu",
                  "3746",
                  "2024-08-25 00:00:00",
                  "27",
                  "Citadine",
                  "Diesel",
                  "Aéroport",
                  "641.0",
                  "928.19",
                  "False",
                  "False",
                  "False",
                  "21",
                  "2024-08-25 00:00:00",
                  "928.19",
                  "Carte bancaire",
                  "Réussi",
                  null,
                  null,
                  null,
                  null,
                  null,
                  null
                ],
                [
                  "21",
                  "22",
                  "4537",
                  "2024-06-07 00:00:00",
                  "4",
                  "Citadine",
                  "Diesel",
                  "Centre-ville",
                  null,
                  "436.76",
                  "False",
                  "False",
                  "False",
                  "2022-11-06 08:53:58.952700",
                  "Homme",
                  "65",
                  "Particulier",
                  "Paris",
                  "France",
                  "False",
                  "3",
                  "78405.0",
                  "Cadre",
                  "4537",
                  "2024-06-07 00:00:00",
                  "4",
                  "Citadine",
                  "Diesel",
                  "Centre-ville",
                  null,
                  "436.76",
                  "False",
                  "False",
                  "False",
                  "22",
                  "2024-06-07 00:00:00",
                  "436.76",
                  "PayPal",
                  "Réussi",
                  null,
                  null,
                  null,
                  null,
                  null,
                  null
                ],
                [
                  "22",
                  "23",
                  "2523",
                  "2025-01-01 00:00:00",
                  "17",
                  "Berline",
                  "Essence",
                  "Gare",
                  "375.0",
                  "1809.82",
                  "False",
                  "False",
                  "True",
                  "2022-11-04 08:53:58.946900",
                  "Femme",
                  "40",
                  "Particulier",
                  "Toulouse",
                  "France",
                  "False",
                  "1",
                  "27699.0",
                  "Commerçant",
                  "2523",
                  "2025-01-01 00:00:00",
                  "17",
                  "Berline",
                  "Essence",
                  "Gare",
                  "375.0",
                  "1809.82",
                  "False",
                  "False",
                  "True",
                  "23",
                  "2024-12-31 00:00:00",
                  "1809.82",
                  "Carte bancaire",
                  "Réussi",
                  null,
                  null,
                  null,
                  null,
                  null,
                  null
                ],
                [
                  "23",
                  "24",
                  "2792",
                  "2024-05-05 00:00:00",
                  "24",
                  "SUV",
                  "Essence",
                  "Aéroport",
                  "57.0",
                  "1465.97",
                  "True",
                  "False",
                  "False",
                  "2022-07-13 08:53:58.947602",
                  "Autre",
                  "41",
                  "Particulier",
                  "Paris",
                  "France",
                  "False",
                  "2",
                  "30053.0",
                  "Inconnu",
                  "2792",
                  "2024-05-05 00:00:00",
                  "24",
                  "SUV",
                  "Essence",
                  "Aéroport",
                  "57.0",
                  "1465.97",
                  "True",
                  "False",
                  "False",
                  "24",
                  "2024-05-05 00:00:00",
                  "1465.97",
                  "Carte bancaire",
                  "Réussi",
                  "19.0",
                  null,
                  null,
                  null,
                  null,
                  null
                ],
                [
                  "24",
                  "25",
                  "341",
                  "2024-10-05 00:00:00",
                  "20",
                  "Citadine",
                  "Essence",
                  "Centre-ville",
                  "565.0",
                  "1026.48",
                  "False",
                  "True",
                  "True",
                  "2022-10-04 08:53:58.940301",
                  "Femme",
                  "54",
                  "Particulier",
                  "Paris",
                  "France",
                  "True",
                  "1",
                  null,
                  "Retraité",
                  "341",
                  "2024-10-05 00:00:00",
                  "20",
                  "Citadine",
                  "Essence",
                  "Centre-ville",
                  "565.0",
                  "1026.48",
                  "False",
                  "True",
                  "True",
                  "25",
                  "2024-10-04 00:00:00",
                  "1026.48",
                  "Carte bancaire",
                  "Réussi",
                  null,
                  null,
                  null,
                  null,
                  null,
                  null
                ],
                [
                  "25",
                  "26",
                  "2130",
                  "2024-07-29 00:00:00",
                  "1",
                  "Citadine",
                  "Essence",
                  "Aéroport",
                  "455.0",
                  "80.09",
                  "False",
                  "False",
                  "False",
                  "2022-12-05 08:53:58.945826",
                  "Homme",
                  "66",
                  "Particulier",
                  "Paris",
                  "France",
                  "False",
                  "3",
                  "23399.0",
                  "Retraité",
                  "2130",
                  "2024-07-29 00:00:00",
                  "1",
                  "Citadine",
                  "Essence",
                  "Aéroport",
                  "455.0",
                  "80.09",
                  "False",
                  "False",
                  "False",
                  "26",
                  "2024-07-29 00:00:00",
                  "80.09",
                  "PayPal",
                  "Réussi",
                  null,
                  "3024.0",
                  "2130.0",
                  "5.0",
                  "Je reviendrai sans hésiter",
                  "2024-08-06 00:00:00"
                ],
                [
                  "26",
                  "27",
                  "435",
                  "2025-01-13 00:00:00",
                  "27",
                  "Citadine",
                  "Essence",
                  "Centre-ville",
                  "532.0",
                  "963.89",
                  "False",
                  "False",
                  "True",
                  "2022-12-21 08:53:58.940638",
                  "Homme",
                  "53",
                  "Professionnel",
                  "Bordeaux",
                  "France",
                  "False",
                  "1",
                  "59842.0",
                  "Cadre",
                  "435",
                  "2025-01-13 00:00:00",
                  "27",
                  "Citadine",
                  "Essence",
                  "Centre-ville",
                  "532.0",
                  "963.89",
                  "False",
                  "False",
                  "True",
                  "27",
                  "2025-01-12 00:00:00",
                  "963.89",
                  "Carte bancaire",
                  "Réussi",
                  null,
                  "5475.0",
                  "435.0",
                  "5.0",
                  "Je reviendrai sans hésiter",
                  "2025-02-14 00:00:00"
                ],
                [
                  "27",
                  "28",
                  "114",
                  "2024-06-11 00:00:00",
                  "16",
                  "Citadine",
                  "Essence",
                  "Aéroport",
                  "803.0",
                  "757.23",
                  "False",
                  "True",
                  "False",
                  "2023-09-27 08:53:58.939576",
                  "Femme",
                  "36",
                  "Professionnel",
                  "Paris",
                  "France",
                  "True",
                  "2",
                  "52471.0",
                  "Cadre",
                  "114",
                  "2024-06-11 00:00:00",
                  "16",
                  "Citadine",
                  "Essence",
                  "Aéroport",
                  "803.0",
                  "757.23",
                  "False",
                  "True",
                  "False",
                  "28",
                  "2024-06-09 00:00:00",
                  "757.23",
                  "Carte bancaire",
                  "Réussi",
                  null,
                  "1020.0",
                  "114.0",
                  "2.0",
                  "Problème avec le paiement",
                  "2024-06-29 00:00:00"
                ],
                [
                  "28",
                  "29",
                  "379",
                  "2024-03-08 00:00:00",
                  "6",
                  "Citadine",
                  "Hybride",
                  "Aéroport",
                  "831.0",
                  "362.47",
                  "False",
                  "False",
                  "False",
                  "2023-12-20 08:53:58.940433",
                  "Femme",
                  "52",
                  "Particulier",
                  "Strasbourg",
                  "France",
                  "False",
                  "2",
                  "61149.0",
                  "Inconnu",
                  "379",
                  "2024-03-08 00:00:00",
                  "6",
                  "Citadine",
                  "Hybride",
                  "Aéroport",
                  "831.0",
                  "362.47",
                  "False",
                  "False",
                  "False",
                  "29",
                  "2024-03-07 00:00:00",
                  "362.47",
                  "Carte bancaire",
                  "Réussi",
                  null,
                  "3407.0",
                  "379.0",
                  "5.0",
                  "Parfait de A à Z !",
                  "2024-03-17 00:00:00"
                ],
                [
                  "29",
                  "30",
                  "4619",
                  "2024-05-17 00:00:00",
                  "12",
                  "SUV",
                  "Hybride",
                  "Centre-ville",
                  "848.0",
                  "823.62",
                  "False",
                  "False",
                  "False",
                  "2024-05-23 08:53:58.952924",
                  "Femme",
                  "72",
                  "Particulier",
                  "Nantes",
                  "France",
                  "False",
                  "4",
                  "64174.0",
                  "Étudiant",
                  "4619",
                  "2024-05-17 00:00:00",
                  "12",
                  "SUV",
                  "Hybride",
                  "Centre-ville",
                  "848.0",
                  "823.62",
                  "False",
                  "False",
                  "False",
                  "30",
                  "2024-05-15 00:00:00",
                  "823.62",
                  "Carte bancaire",
                  "Réussi",
                  null,
                  null,
                  null,
                  null,
                  null,
                  null
                ],
                [
                  "30",
                  "31",
                  "857",
                  "2024-05-02 00:00:00",
                  "17",
                  "Berline",
                  "Diesel",
                  "Aéroport",
                  "594.0",
                  "1227.51",
                  "True",
                  "False",
                  "False",
                  "2023-07-15 08:53:58.941862",
                  "Homme",
                  "40",
                  "Particulier",
                  "Paris",
                  "France",
                  "False",
                  "2",
                  "21119.0",
                  "Commerçant",
                  "857",
                  "2024-05-02 00:00:00",
                  "17",
                  "Berline",
                  "Diesel",
                  "Aéroport",
                  "594.0",
                  "1227.51",
                  "True",
                  "False",
                  "False",
                  "31",
                  "2024-05-01 00:00:00",
                  "1227.51",
                  "Carte bancaire",
                  "Réussi",
                  "22.0",
                  null,
                  null,
                  null,
                  null,
                  null
                ],
                [
                  "31",
                  "32",
                  "1745",
                  "2025-01-17 00:00:00",
                  "23",
                  "Utilitaire",
                  "Diesel",
                  "Aéroport",
                  "682.0",
                  "1017.28",
                  "False",
                  "False",
                  "False",
                  "2024-11-14 08:53:58.944760",
                  "Homme",
                  "66",
                  "Professionnel",
                  "Marseille",
                  "France",
                  "False",
                  "2",
                  "24282.0",
                  "Étudiant",
                  "1745",
                  "2025-01-17 00:00:00",
                  "23",
                  "Utilitaire",
                  "Diesel",
                  "Aéroport",
                  "682.0",
                  "1017.28",
                  "False",
                  "False",
                  "False",
                  "32",
                  "2025-01-15 00:00:00",
                  "1017.28",
                  "Carte bancaire",
                  "Réussi",
                  null,
                  "3118.0",
                  "1745.0",
                  "5.0",
                  "Excellent service !",
                  "2025-02-10 00:00:00"
                ],
                [
                  "32",
                  "33",
                  "4945",
                  "2024-05-30 00:00:00",
                  "12",
                  "Citadine",
                  "Essence",
                  "Centre-ville",
                  "728.0",
                  "1189.88",
                  "False",
                  "True",
                  "True",
                  "2023-02-22 08:53:58.954160",
                  "Homme",
                  "68",
                  "Particulier",
                  "Lille",
                  "France",
                  "True",
                  "1",
                  "48866.0",
                  "Artisan",
                  "4945",
                  "2024-05-30 00:00:00",
                  "12",
                  "Citadine",
                  "Essence",
                  "Centre-ville",
                  "728.0",
                  "1189.88",
                  "False",
                  "True",
                  "True",
                  "33",
                  "2024-05-29 00:00:00",
                  "1189.88",
                  "Carte bancaire",
                  "Réussi",
                  null,
                  null,
                  null,
                  null,
                  null,
                  null
                ],
                [
                  "33",
                  "34",
                  "3631",
                  "2024-06-15 00:00:00",
                  "1",
                  "Berline",
                  "Électrique",
                  "Gare",
                  "679.0",
                  "46.22",
                  "True",
                  "False",
                  "False",
                  "2023-08-04 08:53:58.950274",
                  "Femme",
                  "60",
                  "Professionnel",
                  "Lille",
                  "France",
                  "False",
                  "4",
                  "74396.0",
                  "Inconnu",
                  "3631",
                  "2024-06-15 00:00:00",
                  "1",
                  "Berline",
                  "Électrique",
                  "Gare",
                  "679.0",
                  "46.22",
                  "True",
                  "False",
                  "False",
                  "34",
                  "2024-06-13 00:00:00",
                  "46.22",
                  "Carte bancaire",
                  "Réussi",
                  "22.0",
                  null,
                  null,
                  null,
                  null,
                  null
                ],
                [
                  "34",
                  "35",
                  "705",
                  "2025-01-11 00:00:00",
                  "2",
                  "Berline",
                  "Diesel",
                  "Aéroport",
                  "988.0",
                  "208.09",
                  "False",
                  "False",
                  "False",
                  "2024-05-05 08:53:58.941428",
                  "Homme",
                  "24",
                  "Particulier",
                  "Strasbourg",
                  "France",
                  "False",
                  "2",
                  null,
                  "Commerçant",
                  "705",
                  "2025-01-11 00:00:00",
                  "2",
                  "Berline",
                  "Diesel",
                  "Aéroport",
                  "988.0",
                  "208.09",
                  "False",
                  "False",
                  "False",
                  "35",
                  "2025-01-10 00:00:00",
                  "208.09",
                  "Carte bancaire",
                  "Échoué",
                  null,
                  null,
                  null,
                  null,
                  null,
                  null
                ],
                [
                  "35",
                  "36",
                  "2867",
                  "2024-12-04 00:00:00",
                  "7",
                  "Citadine",
                  "Diesel",
                  "Gare",
                  "190.0",
                  "712.54",
                  "False",
                  "True",
                  "False",
                  "2023-12-30 08:53:58.947843",
                  "Femme",
                  "48",
                  "Particulier",
                  "Lyon",
                  "France",
                  "True",
                  "4",
                  "67231.0",
                  "Inconnu",
                  "2867",
                  "2024-12-04 00:00:00",
                  "7",
                  "Citadine",
                  "Diesel",
                  "Gare",
                  "190.0",
                  "712.54",
                  "False",
                  "True",
                  "False",
                  "36",
                  "2024-12-03 00:00:00",
                  "712.54",
                  "Carte bancaire",
                  "Réussi",
                  null,
                  "1491.0",
                  "2867.0",
                  "5.0",
                  "Je reviendrai sans hésiter",
                  "2024-12-14 00:00:00"
                ],
                [
                  "36",
                  "37",
                  "2949",
                  "2025-02-12 00:00:00",
                  "4",
                  "SUV",
                  "Diesel",
                  "Gare",
                  "291.0",
                  "308.72",
                  "False",
                  "False",
                  "True",
                  "2024-12-08 08:53:58.948458",
                  "Homme",
                  "42",
                  "Particulier",
                  "Nantes",
                  "France",
                  "False",
                  "1",
                  "75505.0",
                  "Commerçant",
                  "2949",
                  "2025-02-12 00:00:00",
                  "4",
                  "SUV",
                  "Diesel",
                  "Gare",
                  "291.0",
                  "308.72",
                  "False",
                  "False",
                  "True",
                  "37",
                  "2025-02-10 00:00:00",
                  "308.72",
                  "PayPal",
                  "Réussi",
                  null,
                  "541.0",
                  "2949.0",
                  "5.0",
                  "Parfait de A à Z !",
                  "2025-02-20 00:00:00"
                ],
                [
                  "37",
                  "38",
                  "2066",
                  "2025-02-19 00:00:00",
                  "23",
                  "Berline",
                  "Essence",
                  "Centre-ville",
                  null,
                  "898.05",
                  "False",
                  "False",
                  "False",
                  "2022-10-25 08:53:58.945657",
                  "Homme",
                  "69",
                  "Professionnel",
                  "Toulouse",
                  "France",
                  "False",
                  "2",
                  "55368.0",
                  "Cadre",
                  "2066",
                  "2025-02-19 00:00:00",
                  "23",
                  "Berline",
                  "Essence",
                  "Centre-ville",
                  null,
                  "898.05",
                  "False",
                  "False",
                  "False",
                  "38",
                  "2025-02-17 00:00:00",
                  "898.05",
                  "PayPal",
                  "Réussi",
                  null,
                  null,
                  null,
                  null,
                  null,
                  null
                ],
                [
                  "38",
                  "39",
                  "3470",
                  "2024-05-23 00:00:00",
                  "14",
                  "Berline",
                  "Hybride",
                  "Aéroport",
                  "702.0",
                  "1656.45",
                  "False",
                  "False",
                  "True",
                  "2023-08-30 08:53:58.949797",
                  "Homme",
                  "55",
                  "Particulier",
                  "Nice",
                  "France",
                  "False",
                  "1",
                  "20861.0",
                  "Sans emploi",
                  "3470",
                  "2024-05-23 00:00:00",
                  "14",
                  "Berline",
                  "Hybride",
                  "Aéroport",
                  "702.0",
                  "1656.45",
                  "False",
                  "False",
                  "True",
                  "39",
                  "2024-05-23 00:00:00",
                  "1656.45",
                  "PayPal",
                  "Réussi",
                  null,
                  null,
                  null,
                  null,
                  null,
                  null
                ],
                [
                  "39",
                  "40",
                  "966",
                  "2024-10-21 00:00:00",
                  "1",
                  "Utilitaire",
                  "Essence",
                  "Aéroport",
                  "884.0",
                  "85.87",
                  "False",
                  "False",
                  "True",
                  "2023-05-07 08:53:58.942159",
                  "Homme",
                  "33",
                  "Particulier",
                  "Paris",
                  "France",
                  "False",
                  "1",
                  null,
                  "Commerçant",
                  "966",
                  "2024-10-21 00:00:00",
                  "1",
                  "Utilitaire",
                  "Essence",
                  "Aéroport",
                  "884.0",
                  "85.87",
                  "False",
                  "False",
                  "True",
                  "40",
                  "2024-10-20 00:00:00",
                  "85.87",
                  "PayPal",
                  "Réussi",
                  null,
                  null,
                  null,
                  null,
                  null,
                  null
                ],
                [
                  "40",
                  "41",
                  "1089",
                  "2024-04-28 00:00:00",
                  "9",
                  "SUV",
                  "Électrique",
                  "Gare",
                  "786.0",
                  "638.64",
                  "False",
                  "True",
                  "True",
                  "2022-06-07 08:53:58.942807",
                  "Femme",
                  "77",
                  "Professionnel",
                  "Bordeaux",
                  "France",
                  "True",
                  "1",
                  "65146.0",
                  "Artisan",
                  "1089",
                  "2024-04-28 00:00:00",
                  "9",
                  "SUV",
                  "Électrique",
                  "Gare",
                  "786.0",
                  "638.64",
                  "False",
                  "True",
                  "True",
                  "41",
                  "2024-04-27 00:00:00",
                  "638.64",
                  "Carte bancaire",
                  "Réussi",
                  null,
                  null,
                  null,
                  null,
                  null,
                  null
                ],
                [
                  "41",
                  "42",
                  "4961",
                  "2024-09-19 00:00:00",
                  "14",
                  "Citadine",
                  "Hybride",
                  "Centre-ville",
                  "712.0",
                  "746.17",
                  "False",
                  "False",
                  "True",
                  "2022-07-26 08:53:58.954209",
                  "Femme",
                  "26",
                  "Particulier",
                  "Lille",
                  "France",
                  "False",
                  "1",
                  "20745.0",
                  "Commerçant",
                  "4961",
                  "2024-09-19 00:00:00",
                  "14",
                  "Citadine",
                  "Hybride",
                  "Centre-ville",
                  "712.0",
                  "746.17",
                  "False",
                  "False",
                  "True",
                  "42",
                  "2024-09-18 00:00:00",
                  "746.17",
                  "Carte bancaire",
                  "Réussi",
                  null,
                  "2777.0",
                  "4961.0",
                  "4.0",
                  "Très bonne expérience",
                  "2024-10-04 00:00:00"
                ],
                [
                  "42",
                  "43",
                  "4659",
                  "2024-11-13 00:00:00",
                  "25",
                  "Berline",
                  "Hybride",
                  "Centre-ville",
                  "871.0",
                  "2481.95",
                  "False",
                  "False",
                  "False",
                  "2024-01-19 08:53:58.953072",
                  "Homme",
                  "64",
                  "Particulier",
                  "Lyon",
                  "France",
                  "False",
                  "4",
                  "25793.0",
                  "Étudiant",
                  "4659",
                  "2024-11-13 00:00:00",
                  "25",
                  "Berline",
                  "Hybride",
                  "Centre-ville",
                  "871.0",
                  "2481.95",
                  "False",
                  "False",
                  "False",
                  "43",
                  "2024-11-13 00:00:00",
                  "2481.95",
                  "Carte bancaire",
                  "Réussi",
                  null,
                  null,
                  null,
                  null,
                  null,
                  null
                ],
                [
                  "43",
                  "44",
                  "4988",
                  "2024-08-16 00:00:00",
                  "20",
                  "SUV",
                  "Essence",
                  "Centre-ville",
                  "119.0",
                  "873.6",
                  "True",
                  "False",
                  "False",
                  "2022-12-22 08:53:58.954277",
                  "Homme",
                  "61",
                  "Professionnel",
                  "Paris",
                  "France",
                  "False",
                  "3",
                  "74356.0",
                  "Commerçant",
                  "4988",
                  "2024-08-16 00:00:00",
                  "20",
                  "SUV",
                  "Essence",
                  "Centre-ville",
                  "119.0",
                  "873.6",
                  "True",
                  "False",
                  "False",
                  "44",
                  "2024-08-16 00:00:00",
                  "873.6",
                  "Virement",
                  "Réussi",
                  "19.0",
                  "294.0",
                  "4988.0",
                  "5.0",
                  "Je reviendrai sans hésiter",
                  "2024-09-10 00:00:00"
                ],
                [
                  "44",
                  "45",
                  "4955",
                  "2025-01-29 00:00:00",
                  "18",
                  "SUV",
                  "Hybride",
                  "Gare",
                  null,
                  "1447.25",
                  "False",
                  "False",
                  "False",
                  "2022-11-14 08:53:58.954193",
                  "Homme",
                  "64",
                  "Particulier",
                  "Marseille",
                  "France",
                  "False",
                  "3",
                  "57427.0",
                  "Cadre",
                  "4955",
                  "2025-01-29 00:00:00",
                  "18",
                  "SUV",
                  "Hybride",
                  "Gare",
                  null,
                  "1447.25",
                  "False",
                  "False",
                  "False",
                  "45",
                  "2025-01-27 00:00:00",
                  "1447.25",
                  "Carte bancaire",
                  "Réussi",
                  null,
                  "4491.0",
                  "4955.0",
                  "3.0",
                  "Peu de choix de véhicules",
                  "2025-02-18 00:00:00"
                ],
                [
                  "45",
                  "46",
                  "1878",
                  "2025-01-04 00:00:00",
                  "3",
                  "Berline",
                  "Hybride",
                  "Aéroport",
                  "800.0",
                  "157.63",
                  "False",
                  "False",
                  "False",
                  "2024-11-04 08:53:58.945142",
                  "Femme",
                  "69",
                  "Particulier",
                  "Strasbourg",
                  "France",
                  "False",
                  "3",
                  "79403.0",
                  "Étudiant",
                  "1878",
                  "2025-01-04 00:00:00",
                  "3",
                  "Berline",
                  "Hybride",
                  "Aéroport",
                  "800.0",
                  "157.63",
                  "False",
                  "False",
                  "False",
                  "46",
                  "2025-01-04 00:00:00",
                  "157.63",
                  "Carte bancaire",
                  "Réussi",
                  null,
                  null,
                  null,
                  null,
                  null,
                  null
                ],
                [
                  "46",
                  "47",
                  "4241",
                  "2024-12-21 00:00:00",
                  "17",
                  "Utilitaire",
                  "Hybride",
                  "Gare",
                  "671.0",
                  "1545.14",
                  "False",
                  "True",
                  "False",
                  "2023-11-26 08:53:58.951922",
                  "Homme",
                  "61",
                  "Particulier",
                  "Toulouse",
                  "France",
                  "True",
                  "3",
                  "24770.0",
                  "Sans emploi",
                  "4241",
                  "2024-12-21 00:00:00",
                  "17",
                  "Utilitaire",
                  "Hybride",
                  "Gare",
                  "671.0",
                  "1545.14",
                  "False",
                  "True",
                  "False",
                  "47",
                  "2024-12-19 00:00:00",
                  "1545.14",
                  "Carte bancaire",
                  "Réussi",
                  null,
                  "1044.0",
                  "4241.0",
                  "4.0",
                  "Très bonne expérience",
                  "2025-01-14 00:00:00"
                ],
                [
                  "47",
                  "48",
                  "1654",
                  "2024-03-18 00:00:00",
                  "2",
                  "SUV",
                  "Essence",
                  "Aéroport",
                  "57.0",
                  "104.99",
                  "False",
                  "True",
                  "False",
                  "2022-06-16 08:53:58.944509",
                  "Femme",
                  "38",
                  "Particulier",
                  "Lille",
                  "France",
                  "True",
                  "2",
                  "22461.0",
                  "Cadre",
                  "1654",
                  "2024-03-18 00:00:00",
                  "2",
                  "SUV",
                  "Essence",
                  "Aéroport",
                  "57.0",
                  "104.99",
                  "False",
                  "True",
                  "False",
                  "48",
                  "2024-03-16 00:00:00",
                  "104.99",
                  "Carte bancaire",
                  "Réussi",
                  null,
                  "900.0",
                  "1654.0",
                  "5.0",
                  "Excellent service !",
                  "2024-03-25 00:00:00"
                ],
                [
                  "48",
                  "49",
                  "2620",
                  "2024-02-29 00:00:00",
                  "12",
                  "Citadine",
                  "Essence",
                  "Centre-ville",
                  "408.0",
                  "925.82",
                  "False",
                  "True",
                  "False",
                  "2023-09-18 08:53:58.947158",
                  "Femme",
                  "68",
                  "Particulier",
                  "Paris",
                  "France",
                  "True",
                  "3",
                  "48081.0",
                  "Cadre",
                  "2620",
                  "2024-02-29 00:00:00",
                  "12",
                  "Citadine",
                  "Essence",
                  "Centre-ville",
                  "408.0",
                  "925.82",
                  "False",
                  "True",
                  "False",
                  "49",
                  "2024-02-27 00:00:00",
                  "925.82",
                  "Virement",
                  "Réussi",
                  null,
                  "2097.0",
                  "2620.0",
                  "5.0",
                  "Excellent service !",
                  "2024-03-17 00:00:00"
                ],
                [
                  "49",
                  "50",
                  "2903",
                  "2024-09-15 00:00:00",
                  "30",
                  "SUV",
                  "Diesel",
                  "Centre-ville",
                  "150.0",
                  "3345.21",
                  "False",
                  "False",
                  "False",
                  "2023-04-10 08:53:58.948310",
                  "Femme",
                  "45",
                  "Particulier",
                  "Paris",
                  "France",
                  "False",
                  "2",
                  "75563.0",
                  "Artisan",
                  "2903",
                  "2024-09-15 00:00:00",
                  "30",
                  "SUV",
                  "Diesel",
                  "Centre-ville",
                  "150.0",
                  "3345.21",
                  "False",
                  "False",
                  "False",
                  "50",
                  null,
                  "3345.21",
                  "Virement",
                  "Réussi",
                  null,
                  null,
                  null,
                  null,
                  null,
                  null
                ]
              ],
              "shape": {
                "columns": 44,
                "rows": 10000
              }
            },
            "text/html": [
              "<div>\n",
              "<style scoped>\n",
              "    .dataframe tbody tr th:only-of-type {\n",
              "        vertical-align: middle;\n",
              "    }\n",
              "\n",
              "    .dataframe tbody tr th {\n",
              "        vertical-align: top;\n",
              "    }\n",
              "\n",
              "    .dataframe thead th {\n",
              "        text-align: right;\n",
              "    }\n",
              "</style>\n",
              "<table border=\"1\" class=\"dataframe\">\n",
              "  <thead>\n",
              "    <tr style=\"text-align: right;\">\n",
              "      <th></th>\n",
              "      <th>location_id</th>\n",
              "      <th>client_id</th>\n",
              "      <th>date_location</th>\n",
              "      <th>duree_location</th>\n",
              "      <th>type_vehicule</th>\n",
              "      <th>type_carburant</th>\n",
              "      <th>lieu_location</th>\n",
              "      <th>kilométrage</th>\n",
              "      <th>prix_total</th>\n",
              "      <th>remise_appliquee</th>\n",
              "      <th>...</th>\n",
              "      <th>date_paiement</th>\n",
              "      <th>montant_paye</th>\n",
              "      <th>type_paiement</th>\n",
              "      <th>statut_paiement</th>\n",
              "      <th>remise_appliquée_en_%</th>\n",
              "      <th>avis_id</th>\n",
              "      <th>client_id_avis</th>\n",
              "      <th>note</th>\n",
              "      <th>commentaire</th>\n",
              "      <th>date_avis</th>\n",
              "    </tr>\n",
              "  </thead>\n",
              "  <tbody>\n",
              "    <tr>\n",
              "      <th>0</th>\n",
              "      <td>1</td>\n",
              "      <td>4919</td>\n",
              "      <td>2025-01-31</td>\n",
              "      <td>15</td>\n",
              "      <td>Citadine</td>\n",
              "      <td>Diesel</td>\n",
              "      <td>Gare</td>\n",
              "      <td>497.0</td>\n",
              "      <td>932.07</td>\n",
              "      <td>True</td>\n",
              "      <td>...</td>\n",
              "      <td>2025-01-31</td>\n",
              "      <td>932.07</td>\n",
              "      <td>Carte bancaire</td>\n",
              "      <td>Réussi</td>\n",
              "      <td>14.0</td>\n",
              "      <td>5179.0</td>\n",
              "      <td>4919.0</td>\n",
              "      <td>5.0</td>\n",
              "      <td>Parfait de A à Z !</td>\n",
              "      <td>2025-02-20</td>\n",
              "    </tr>\n",
              "    <tr>\n",
              "      <th>1</th>\n",
              "      <td>2</td>\n",
              "      <td>14</td>\n",
              "      <td>2024-11-25</td>\n",
              "      <td>9</td>\n",
              "      <td>Citadine</td>\n",
              "      <td>Essence</td>\n",
              "      <td>Aéroport</td>\n",
              "      <td>231.0</td>\n",
              "      <td>675.40</td>\n",
              "      <td>False</td>\n",
              "      <td>...</td>\n",
              "      <td>2024-11-24</td>\n",
              "      <td>675.40</td>\n",
              "      <td>Carte bancaire</td>\n",
              "      <td>Réussi</td>\n",
              "      <td>NaN</td>\n",
              "      <td>2895.0</td>\n",
              "      <td>14.0</td>\n",
              "      <td>5.0</td>\n",
              "      <td>Excellent service !</td>\n",
              "      <td>2024-12-07</td>\n",
              "    </tr>\n",
              "    <tr>\n",
              "      <th>2</th>\n",
              "      <td>3</td>\n",
              "      <td>440</td>\n",
              "      <td>2024-12-01</td>\n",
              "      <td>21</td>\n",
              "      <td>Citadine</td>\n",
              "      <td>Hybride</td>\n",
              "      <td>Centre-ville</td>\n",
              "      <td>453.0</td>\n",
              "      <td>896.70</td>\n",
              "      <td>False</td>\n",
              "      <td>...</td>\n",
              "      <td>2024-11-30</td>\n",
              "      <td>896.70</td>\n",
              "      <td>Virement</td>\n",
              "      <td>Réussi</td>\n",
              "      <td>NaN</td>\n",
              "      <td>NaN</td>\n",
              "      <td>NaN</td>\n",
              "      <td>NaN</td>\n",
              "      <td>NaN</td>\n",
              "      <td>NaT</td>\n",
              "    </tr>\n",
              "    <tr>\n",
              "      <th>3</th>\n",
              "      <td>4</td>\n",
              "      <td>4089</td>\n",
              "      <td>2024-11-11</td>\n",
              "      <td>2</td>\n",
              "      <td>Citadine</td>\n",
              "      <td>Essence</td>\n",
              "      <td>Gare</td>\n",
              "      <td>944.0</td>\n",
              "      <td>185.61</td>\n",
              "      <td>False</td>\n",
              "      <td>...</td>\n",
              "      <td>2024-11-10</td>\n",
              "      <td>185.61</td>\n",
              "      <td>Carte bancaire</td>\n",
              "      <td>Réussi</td>\n",
              "      <td>NaN</td>\n",
              "      <td>NaN</td>\n",
              "      <td>NaN</td>\n",
              "      <td>NaN</td>\n",
              "      <td>NaN</td>\n",
              "      <td>NaT</td>\n",
              "    </tr>\n",
              "    <tr>\n",
              "      <th>4</th>\n",
              "      <td>5</td>\n",
              "      <td>4554</td>\n",
              "      <td>2024-02-26</td>\n",
              "      <td>25</td>\n",
              "      <td>Berline</td>\n",
              "      <td>Hybride</td>\n",
              "      <td>Aéroport</td>\n",
              "      <td>173.0</td>\n",
              "      <td>1218.55</td>\n",
              "      <td>False</td>\n",
              "      <td>...</td>\n",
              "      <td>2024-02-25</td>\n",
              "      <td>1218.55</td>\n",
              "      <td>PayPal</td>\n",
              "      <td>Réussi</td>\n",
              "      <td>NaN</td>\n",
              "      <td>NaN</td>\n",
              "      <td>NaN</td>\n",
              "      <td>NaN</td>\n",
              "      <td>NaN</td>\n",
              "      <td>NaT</td>\n",
              "    </tr>\n",
              "    <tr>\n",
              "      <th>...</th>\n",
              "      <td>...</td>\n",
              "      <td>...</td>\n",
              "      <td>...</td>\n",
              "      <td>...</td>\n",
              "      <td>...</td>\n",
              "      <td>...</td>\n",
              "      <td>...</td>\n",
              "      <td>...</td>\n",
              "      <td>...</td>\n",
              "      <td>...</td>\n",
              "      <td>...</td>\n",
              "      <td>...</td>\n",
              "      <td>...</td>\n",
              "      <td>...</td>\n",
              "      <td>...</td>\n",
              "      <td>...</td>\n",
              "      <td>...</td>\n",
              "      <td>...</td>\n",
              "      <td>...</td>\n",
              "      <td>...</td>\n",
              "      <td>...</td>\n",
              "    </tr>\n",
              "    <tr>\n",
              "      <th>9995</th>\n",
              "      <td>9996</td>\n",
              "      <td>4098</td>\n",
              "      <td>2024-12-19</td>\n",
              "      <td>11</td>\n",
              "      <td>Utilitaire</td>\n",
              "      <td>Hybride</td>\n",
              "      <td>Aéroport</td>\n",
              "      <td>859.0</td>\n",
              "      <td>660.73</td>\n",
              "      <td>False</td>\n",
              "      <td>...</td>\n",
              "      <td>2024-12-19</td>\n",
              "      <td>660.73</td>\n",
              "      <td>Carte bancaire</td>\n",
              "      <td>Réussi</td>\n",
              "      <td>NaN</td>\n",
              "      <td>NaN</td>\n",
              "      <td>NaN</td>\n",
              "      <td>NaN</td>\n",
              "      <td>NaN</td>\n",
              "      <td>NaT</td>\n",
              "    </tr>\n",
              "    <tr>\n",
              "      <th>9996</th>\n",
              "      <td>9997</td>\n",
              "      <td>4815</td>\n",
              "      <td>2024-11-08</td>\n",
              "      <td>3</td>\n",
              "      <td>Citadine</td>\n",
              "      <td>Diesel</td>\n",
              "      <td>Aéroport</td>\n",
              "      <td>112.0</td>\n",
              "      <td>221.35</td>\n",
              "      <td>True</td>\n",
              "      <td>...</td>\n",
              "      <td>2024-11-08</td>\n",
              "      <td>221.35</td>\n",
              "      <td>Carte bancaire</td>\n",
              "      <td>Réussi</td>\n",
              "      <td>22.0</td>\n",
              "      <td>4943.0</td>\n",
              "      <td>4815.0</td>\n",
              "      <td>5.0</td>\n",
              "      <td>Parfait de A à Z !</td>\n",
              "      <td>2024-11-13</td>\n",
              "    </tr>\n",
              "    <tr>\n",
              "      <th>9997</th>\n",
              "      <td>9998</td>\n",
              "      <td>4648</td>\n",
              "      <td>2024-04-14</td>\n",
              "      <td>11</td>\n",
              "      <td>Berline</td>\n",
              "      <td>Diesel</td>\n",
              "      <td>Aéroport</td>\n",
              "      <td>874.0</td>\n",
              "      <td>1250.99</td>\n",
              "      <td>False</td>\n",
              "      <td>...</td>\n",
              "      <td>2024-04-14</td>\n",
              "      <td>1250.99</td>\n",
              "      <td>Carte bancaire</td>\n",
              "      <td>Réussi</td>\n",
              "      <td>NaN</td>\n",
              "      <td>NaN</td>\n",
              "      <td>NaN</td>\n",
              "      <td>NaN</td>\n",
              "      <td>NaN</td>\n",
              "      <td>NaT</td>\n",
              "    </tr>\n",
              "    <tr>\n",
              "      <th>9998</th>\n",
              "      <td>9999</td>\n",
              "      <td>3077</td>\n",
              "      <td>2024-05-12</td>\n",
              "      <td>14</td>\n",
              "      <td>SUV</td>\n",
              "      <td>Hybride</td>\n",
              "      <td>Gare</td>\n",
              "      <td>735.0</td>\n",
              "      <td>1388.63</td>\n",
              "      <td>False</td>\n",
              "      <td>...</td>\n",
              "      <td>2024-05-11</td>\n",
              "      <td>1388.63</td>\n",
              "      <td>Carte bancaire</td>\n",
              "      <td>Réussi</td>\n",
              "      <td>NaN</td>\n",
              "      <td>2356.0</td>\n",
              "      <td>3077.0</td>\n",
              "      <td>5.0</td>\n",
              "      <td>Excellent service !</td>\n",
              "      <td>2024-05-27</td>\n",
              "    </tr>\n",
              "    <tr>\n",
              "      <th>9999</th>\n",
              "      <td>10000</td>\n",
              "      <td>2252</td>\n",
              "      <td>2024-12-12</td>\n",
              "      <td>25</td>\n",
              "      <td>SUV</td>\n",
              "      <td>Électrique</td>\n",
              "      <td>Aéroport</td>\n",
              "      <td>400.0</td>\n",
              "      <td>2869.32</td>\n",
              "      <td>False</td>\n",
              "      <td>...</td>\n",
              "      <td>2024-12-12</td>\n",
              "      <td>2869.32</td>\n",
              "      <td>Carte bancaire</td>\n",
              "      <td>Réussi</td>\n",
              "      <td>NaN</td>\n",
              "      <td>NaN</td>\n",
              "      <td>NaN</td>\n",
              "      <td>NaN</td>\n",
              "      <td>NaN</td>\n",
              "      <td>NaT</td>\n",
              "    </tr>\n",
              "  </tbody>\n",
              "</table>\n",
              "<p>10000 rows × 44 columns</p>\n",
              "</div>"
            ],
            "text/plain": [
              "      location_id  client_id date_location  duree_location type_vehicule  \\\n",
              "0               1       4919    2025-01-31              15      Citadine   \n",
              "1               2         14    2024-11-25               9      Citadine   \n",
              "2               3        440    2024-12-01              21      Citadine   \n",
              "3               4       4089    2024-11-11               2      Citadine   \n",
              "4               5       4554    2024-02-26              25       Berline   \n",
              "...           ...        ...           ...             ...           ...   \n",
              "9995         9996       4098    2024-12-19              11    Utilitaire   \n",
              "9996         9997       4815    2024-11-08               3      Citadine   \n",
              "9997         9998       4648    2024-04-14              11       Berline   \n",
              "9998         9999       3077    2024-05-12              14           SUV   \n",
              "9999        10000       2252    2024-12-12              25           SUV   \n",
              "\n",
              "     type_carburant lieu_location  kilométrage  prix_total  remise_appliquee  \\\n",
              "0            Diesel          Gare        497.0      932.07              True   \n",
              "1           Essence      Aéroport        231.0      675.40             False   \n",
              "2           Hybride  Centre-ville        453.0      896.70             False   \n",
              "3           Essence          Gare        944.0      185.61             False   \n",
              "4           Hybride      Aéroport        173.0     1218.55             False   \n",
              "...             ...           ...          ...         ...               ...   \n",
              "9995        Hybride      Aéroport        859.0      660.73             False   \n",
              "9996         Diesel      Aéroport        112.0      221.35              True   \n",
              "9997         Diesel      Aéroport        874.0     1250.99             False   \n",
              "9998        Hybride          Gare        735.0     1388.63             False   \n",
              "9999     Électrique      Aéroport        400.0     2869.32             False   \n",
              "\n",
              "      ...  date_paiement  montant_paye   type_paiement statut_paiement  \\\n",
              "0     ...     2025-01-31        932.07  Carte bancaire          Réussi   \n",
              "1     ...     2024-11-24        675.40  Carte bancaire          Réussi   \n",
              "2     ...     2024-11-30        896.70        Virement          Réussi   \n",
              "3     ...     2024-11-10        185.61  Carte bancaire          Réussi   \n",
              "4     ...     2024-02-25       1218.55          PayPal          Réussi   \n",
              "...   ...            ...           ...             ...             ...   \n",
              "9995  ...     2024-12-19        660.73  Carte bancaire          Réussi   \n",
              "9996  ...     2024-11-08        221.35  Carte bancaire          Réussi   \n",
              "9997  ...     2024-04-14       1250.99  Carte bancaire          Réussi   \n",
              "9998  ...     2024-05-11       1388.63  Carte bancaire          Réussi   \n",
              "9999  ...     2024-12-12       2869.32  Carte bancaire          Réussi   \n",
              "\n",
              "      remise_appliquée_en_% avis_id client_id_avis note          commentaire  \\\n",
              "0                      14.0  5179.0         4919.0  5.0   Parfait de A à Z !   \n",
              "1                       NaN  2895.0           14.0  5.0  Excellent service !   \n",
              "2                       NaN     NaN            NaN  NaN                  NaN   \n",
              "3                       NaN     NaN            NaN  NaN                  NaN   \n",
              "4                       NaN     NaN            NaN  NaN                  NaN   \n",
              "...                     ...     ...            ...  ...                  ...   \n",
              "9995                    NaN     NaN            NaN  NaN                  NaN   \n",
              "9996                   22.0  4943.0         4815.0  5.0   Parfait de A à Z !   \n",
              "9997                    NaN     NaN            NaN  NaN                  NaN   \n",
              "9998                    NaN  2356.0         3077.0  5.0  Excellent service !   \n",
              "9999                    NaN     NaN            NaN  NaN                  NaN   \n",
              "\n",
              "      date_avis  \n",
              "0    2025-02-20  \n",
              "1    2024-12-07  \n",
              "2           NaT  \n",
              "3           NaT  \n",
              "4           NaT  \n",
              "...         ...  \n",
              "9995        NaT  \n",
              "9996 2024-11-13  \n",
              "9997        NaT  \n",
              "9998 2024-05-27  \n",
              "9999        NaT  \n",
              "\n",
              "[10000 rows x 44 columns]"
            ]
          },
          "execution_count": 18,
          "metadata": {},
          "output_type": "execute_result"
        }
      ],
      "source": [
        "# Création de la copie\n",
        "master_df_copy = master_df.copy()\n",
        "master_df_copy\n"
      ]
    },
    {
      "cell_type": "code",
      "execution_count": null,
      "id": "1dd69006",
      "metadata": {},
      "outputs": [
        {
          "name": "stdout",
          "output_type": "stream",
          "text": [
            "il reste 8984 lignes après suppression des valeurs aberrantes de revenu_annuel\n",
            "il reste 8951 lignes après suppression des valeurs aberrantes de prix_total\n",
            "il reste 8951 lignes après suppression des valeurs aberrantes de duree_location\n",
            "il reste 3855 lignes après suppression des valeurs aberrantes de note\n",
            "\n",
            "Au total 6145 lignes ont été supprimées\n"
          ]
        }
      ],
      "source": [
        "# suppression des lignes contenant les valeurs abbérantes\n",
        "for col in col_outliers:\n",
        "    Q1 = master_df_copy[col].quantile(0.25)\n",
        "    Q3 = master_df_copy[col].quantile(0.75)\n",
        "    IQR = Q3-Q1\n",
        "\n",
        "    BInf = Q1 - 1.5 * IQR\n",
        "    BSup = Q3 + 1.5 * IQR\n",
        "\n",
        "    master_df_copy = master_df_copy[(master_df_copy[col] >= BInf) & (master_df_copy[col] <= BSup)]\n",
        "\n",
        "    print(f\"il reste {len(master_df_copy)} lignes après suppression des valeurs aberrantes de {col}\")\n",
        "print(f\"\\nAu total {len(master_df)-len(master_df_copy)} lignes ont été supprimées\")"
      ]
    },
    {
      "cell_type": "markdown",
      "id": "f58423a0",
      "metadata": {},
      "source": [
        "* Il n'est pas pertinent de supprimer les lignes comprenant des valeurs aberrantes car on perd plus de 60% de données"
      ]
    },
    {
      "cell_type": "markdown",
      "id": "6fecd652",
      "metadata": {},
      "source": [
        "**********************"
      ]
    },
    {
      "cell_type": "markdown",
      "id": "ba18579b",
      "metadata": {
        "id": "ba18579b"
      },
      "source": [
        "## 5. Analyse des Corrélations"
      ]
    },
    {
      "cell_type": "markdown",
      "id": "9b91bbca",
      "metadata": {
        "id": "9b91bbca"
      },
      "source": [
        "### Question 15 : Calculez et affichez la matrice de corrélation."
      ]
    },
    {
      "cell_type": "markdown",
      "id": "yxS6vAG50bba",
      "metadata": {
        "id": "yxS6vAG50bba"
      },
      "source": [
        "*Sélectionner uniquement les colonnes numériques pertinentes : \"revenu_annuel\", \"prix_total\", \"kilométrage\", \"duree_location\", \"montant_paye\".*\n",
        "\n",
        "*Si vous avez remplacé les valeurs manquante par une catégorie, il est tout de même possible de le faire avec \"note\" en l'encodant au préalable, en créant une nouvelle colonne \"note_encoded\".*"
      ]
    },
    {
      "cell_type": "code",
      "execution_count": 20,
      "id": "602fb0c3",
      "metadata": {
        "id": "602fb0c3"
      },
      "outputs": [
        {
          "data": {
            "application/vnd.microsoft.datawrangler.viewer.v0+json": {
              "columns": [
                {
                  "name": "index",
                  "rawType": "object",
                  "type": "string"
                },
                {
                  "name": "revenu_annuel",
                  "rawType": "float64",
                  "type": "float"
                },
                {
                  "name": "prix_total",
                  "rawType": "float64",
                  "type": "float"
                },
                {
                  "name": "kilométrage",
                  "rawType": "float64",
                  "type": "float"
                },
                {
                  "name": "duree_location",
                  "rawType": "float64",
                  "type": "float"
                },
                {
                  "name": "montant_paye",
                  "rawType": "float64",
                  "type": "float"
                },
                {
                  "name": "note",
                  "rawType": "float64",
                  "type": "float"
                }
              ],
              "ref": "e1a2f325-f079-46d2-af07-f363c3d4a876",
              "rows": [
                [
                  "revenu_annuel",
                  "1.0",
                  "-0.0040728055780360215",
                  "0.005791595818437883",
                  "0.006426830937909582",
                  "-0.0040728055780360215",
                  "0.01103060255074518"
                ],
                [
                  "prix_total",
                  "-0.0040728055780360215",
                  "1.0",
                  "-0.0009293117918126809",
                  "0.8191890180956544",
                  "1.0",
                  "-0.017283435616637095"
                ],
                [
                  "kilométrage",
                  "0.005791595818437883",
                  "-0.0009293117918126809",
                  "1.0",
                  "-0.004465796722206643",
                  "-0.0009293117918126862",
                  "-0.01350110379137676"
                ],
                [
                  "duree_location",
                  "0.006426830937909582",
                  "0.8191890180956544",
                  "-0.004465796722206643",
                  "1.0",
                  "0.8191890180956544",
                  "-0.016475023135605043"
                ],
                [
                  "montant_paye",
                  "-0.0040728055780360215",
                  "1.0",
                  "-0.0009293117918126862",
                  "0.8191890180956544",
                  "1.0",
                  "-0.017283435616637095"
                ],
                [
                  "note",
                  "0.01103060255074518",
                  "-0.017283435616637095",
                  "-0.01350110379137676",
                  "-0.016475023135605043",
                  "-0.017283435616637095",
                  "1.0"
                ]
              ],
              "shape": {
                "columns": 6,
                "rows": 6
              }
            },
            "text/html": [
              "<div>\n",
              "<style scoped>\n",
              "    .dataframe tbody tr th:only-of-type {\n",
              "        vertical-align: middle;\n",
              "    }\n",
              "\n",
              "    .dataframe tbody tr th {\n",
              "        vertical-align: top;\n",
              "    }\n",
              "\n",
              "    .dataframe thead th {\n",
              "        text-align: right;\n",
              "    }\n",
              "</style>\n",
              "<table border=\"1\" class=\"dataframe\">\n",
              "  <thead>\n",
              "    <tr style=\"text-align: right;\">\n",
              "      <th></th>\n",
              "      <th>revenu_annuel</th>\n",
              "      <th>prix_total</th>\n",
              "      <th>kilométrage</th>\n",
              "      <th>duree_location</th>\n",
              "      <th>montant_paye</th>\n",
              "      <th>note</th>\n",
              "    </tr>\n",
              "  </thead>\n",
              "  <tbody>\n",
              "    <tr>\n",
              "      <th>revenu_annuel</th>\n",
              "      <td>1.000000</td>\n",
              "      <td>-0.004073</td>\n",
              "      <td>0.005792</td>\n",
              "      <td>0.006427</td>\n",
              "      <td>-0.004073</td>\n",
              "      <td>0.011031</td>\n",
              "    </tr>\n",
              "    <tr>\n",
              "      <th>prix_total</th>\n",
              "      <td>-0.004073</td>\n",
              "      <td>1.000000</td>\n",
              "      <td>-0.000929</td>\n",
              "      <td>0.819189</td>\n",
              "      <td>1.000000</td>\n",
              "      <td>-0.017283</td>\n",
              "    </tr>\n",
              "    <tr>\n",
              "      <th>kilométrage</th>\n",
              "      <td>0.005792</td>\n",
              "      <td>-0.000929</td>\n",
              "      <td>1.000000</td>\n",
              "      <td>-0.004466</td>\n",
              "      <td>-0.000929</td>\n",
              "      <td>-0.013501</td>\n",
              "    </tr>\n",
              "    <tr>\n",
              "      <th>duree_location</th>\n",
              "      <td>0.006427</td>\n",
              "      <td>0.819189</td>\n",
              "      <td>-0.004466</td>\n",
              "      <td>1.000000</td>\n",
              "      <td>0.819189</td>\n",
              "      <td>-0.016475</td>\n",
              "    </tr>\n",
              "    <tr>\n",
              "      <th>montant_paye</th>\n",
              "      <td>-0.004073</td>\n",
              "      <td>1.000000</td>\n",
              "      <td>-0.000929</td>\n",
              "      <td>0.819189</td>\n",
              "      <td>1.000000</td>\n",
              "      <td>-0.017283</td>\n",
              "    </tr>\n",
              "    <tr>\n",
              "      <th>note</th>\n",
              "      <td>0.011031</td>\n",
              "      <td>-0.017283</td>\n",
              "      <td>-0.013501</td>\n",
              "      <td>-0.016475</td>\n",
              "      <td>-0.017283</td>\n",
              "      <td>1.000000</td>\n",
              "    </tr>\n",
              "  </tbody>\n",
              "</table>\n",
              "</div>"
            ],
            "text/plain": [
              "                revenu_annuel  prix_total  kilométrage  duree_location  \\\n",
              "revenu_annuel        1.000000   -0.004073     0.005792        0.006427   \n",
              "prix_total          -0.004073    1.000000    -0.000929        0.819189   \n",
              "kilométrage          0.005792   -0.000929     1.000000       -0.004466   \n",
              "duree_location       0.006427    0.819189    -0.004466        1.000000   \n",
              "montant_paye        -0.004073    1.000000    -0.000929        0.819189   \n",
              "note                 0.011031   -0.017283    -0.013501       -0.016475   \n",
              "\n",
              "                montant_paye      note  \n",
              "revenu_annuel      -0.004073  0.011031  \n",
              "prix_total          1.000000 -0.017283  \n",
              "kilométrage        -0.000929 -0.013501  \n",
              "duree_location      0.819189 -0.016475  \n",
              "montant_paye        1.000000 -0.017283  \n",
              "note               -0.017283  1.000000  "
            ]
          },
          "execution_count": 20,
          "metadata": {},
          "output_type": "execute_result"
        }
      ],
      "source": [
        "corr_map = master_df[[\"revenu_annuel\", \"prix_total\", \"kilométrage\", \"duree_location\", \"montant_paye\", \"note\"]]\n",
        "corr_map = corr_map.corr()\n",
        "corr_map"
      ]
    },
    {
      "cell_type": "markdown",
      "id": "b1705027",
      "metadata": {},
      "source": [
        "***************"
      ]
    },
    {
      "cell_type": "markdown",
      "id": "7fab3284",
      "metadata": {
        "id": "7fab3284"
      },
      "source": [
        "## 6. Visualisation des Données"
      ]
    },
    {
      "cell_type": "markdown",
      "id": "15ce1a14",
      "metadata": {
        "id": "15ce1a14"
      },
      "source": [
        "### Question 16 : Affichez la matrice de corrélation sous forme de heatmap."
      ]
    },
    {
      "cell_type": "code",
      "execution_count": 21,
      "id": "b1fe4a15",
      "metadata": {
        "id": "b1fe4a15"
      },
      "outputs": [
        {
          "data": {
            "image/png": "[encoded data removed]",
            "text/plain": [
              "<Figure size 1000x1000 with 2 Axes>"
            ]
          },
          "metadata": {},
          "output_type": "display_data"
        }
      ],
      "source": [
        "plt.figure(figsize=(10, 10))\n",
        "sns.heatmap(corr_map, vmin=-1, fmt='.2', annot=True, square=True) # , fmt='.1%', cmap='viridis', square=True\n",
        "plt.title('Matrice de correlation')\n",
        "plt.show()"
      ]
    },
    {
      "cell_type": "markdown",
      "id": "ab684f38",
      "metadata": {},
      "source": [
        "* On remarque une correlation proche de 1 entre le montant_payé (qui est égal au prix_total) et la duree de location\n",
        "* Aucune autre correlation n'est visible"
      ]
    },
    {
      "cell_type": "markdown",
      "id": "35440775",
      "metadata": {},
      "source": [
        "*********************"
      ]
    },
    {
      "cell_type": "markdown",
      "id": "j8MHi5kd02UI",
      "metadata": {
        "id": "j8MHi5kd02UI"
      },
      "source": [
        "### Question 17 : Visualisez la distribution des principales variables numériques.\n"
      ]
    },
    {
      "cell_type": "code",
      "execution_count": 22,
      "id": "WB3X7KLn018N",
      "metadata": {
        "id": "WB3X7KLn018N"
      },
      "outputs": [
        {
          "data": {
            "image/png": "[encoded data removed]",
            "text/plain": [
              "<Figure size 640x480 with 1 Axes>"
            ]
          },
          "metadata": {},
          "output_type": "display_data"
        }
      ],
      "source": [
        "sns.histplot(master_df[\"revenu_annuel\"], kde=True, bins=20)\n",
        "plt.title('Distribution des revenus annuels')\n",
        "plt.xlabel('Revenu annuel')\n",
        "plt.ylabel('Fréquence')\n",
        "plt.show()"
      ]
    },
    {
      "cell_type": "code",
      "execution_count": 23,
      "id": "599c1170",
      "metadata": {},
      "outputs": [
        {
          "data": {
            "image/png": "[encoded data removed]",
            "text/plain": [
              "<Figure size 640x480 with 1 Axes>"
            ]
          },
          "metadata": {},
          "output_type": "display_data"
        }
      ],
      "source": [
        "sns.histplot(master_df[\"prix_total\"], kde=True, bins=20)\n",
        "plt.title('Distribution des prix totaux')\n",
        "plt.xlabel('Prix total')\n",
        "plt.ylabel('Fréquence')\n",
        "plt.show()"
      ]
    },
    {
      "cell_type": "code",
      "execution_count": 24,
      "id": "13b3da35",
      "metadata": {},
      "outputs": [
        {
          "data": {
            "image/png": "[encoded data removed]",
            "text/plain": [
              "<Figure size 640x480 with 1 Axes>"
            ]
          },
          "metadata": {},
          "output_type": "display_data"
        }
      ],
      "source": [
        "sns.histplot(master_df[\"kilométrage\"], kde=True, bins=20)\n",
        "plt.title('Distribution des kilométrages')\n",
        "plt.xlabel('Kilométrage')\n",
        "plt.ylabel('Fréquence')\n",
        "plt.show()"
      ]
    },
    {
      "cell_type": "code",
      "execution_count": 25,
      "id": "bab6fda6",
      "metadata": {},
      "outputs": [
        {
          "data": {
            "image/png": "[encoded data removed]",
            "text/plain": [
              "<Figure size 640x480 with 1 Axes>"
            ]
          },
          "metadata": {},
          "output_type": "display_data"
        }
      ],
      "source": [
        "sns.histplot(master_df[\"duree_location\"], kde=True, bins=10)\n",
        "plt.title('Distribution des durées de location')\n",
        "plt.xlabel('Durée de location')\n",
        "plt.ylabel('Fréquence')\n",
        "plt.show()"
      ]
    },
    {
      "cell_type": "code",
      "execution_count": 26,
      "id": "1c0acbad",
      "metadata": {},
      "outputs": [
        {
          "data": {
            "image/png": "[encoded data removed]",
            "text/plain": [
              "<Figure size 640x480 with 1 Axes>"
            ]
          },
          "metadata": {},
          "output_type": "display_data"
        }
      ],
      "source": [
        "\n",
        "sns.histplot(master_df[\"note\"], bins=30)\n",
        "plt.title('Distribution des notes')\n",
        "plt.xlabel('Notes attribuées')\n",
        "plt.ylabel('Fréquence')\n",
        "plt.show()"
      ]
    },
    {
      "cell_type": "markdown",
      "id": "6gkDuyI91GqQ",
      "metadata": {
        "id": "6gkDuyI91GqQ"
      },
      "source": [
        "### Question 18 : Compléter vos analyses\n",
        "Vous pourrez par exemple :\n",
        "\n",
        "*  Analysez les tendances temporelles des locations.\n",
        "*  Représentez les relations entre variables à l’aide de scatter plots.\n",
        "* Représentez les variables catégoriques avec des diagrammes en barres.\n",
        "* Affichez la répartition des paiements sous forme de camembert."
      ]
    },
    {
      "cell_type": "code",
      "execution_count": 27,
      "id": "abDjNTvW1GJ9",
      "metadata": {
        "id": "abDjNTvW1GJ9"
      },
      "outputs": [
        {
          "data": {
            "image/png": "[encoded data removed]",
            "text/plain": [
              "<Figure size 1000x500 with 1 Axes>"
            ]
          },
          "metadata": {},
          "output_type": "display_data"
        }
      ],
      "source": [
        "plt.figure(figsize=(10, 5))\n",
        "sns.kdeplot(master_df['date_location'], color='orange')\n",
        "\n",
        "\n",
        "plt.xlabel('Date de location')\n",
        "plt.ylabel('Densité des locations')\n",
        "plt.title('Analyse temporelle des locations')\n",
        "plt.show()"
      ]
    },
    {
      "cell_type": "code",
      "execution_count": null,
      "id": "b110d723",
      "metadata": {},
      "outputs": [],
      "source": []
    },
    {
      "cell_type": "code",
      "execution_count": 28,
      "id": "029c9c31",
      "metadata": {},
      "outputs": [
        {
          "data": {
            "image/png": "[encoded data removed]",
            "text/plain": [
              "<Figure size 500x500 with 1 Axes>"
            ]
          },
          "metadata": {},
          "output_type": "display_data"
        }
      ],
      "source": [
        "\n",
        "plt.figure(figsize=(5, 5))\n",
        "sns.histplot(master_df['date_location'].dt.weekday, bins=7, color='orange')\n",
        "\n",
        "plt.xlim(0,7)\n",
        "plt.xlabel('Jour de location')\n",
        "plt.ylabel('Densité des locations')\n",
        "plt.title('Analyse temporelle des locations par semaine')\n",
        "plt.show()\n"
      ]
    },
    {
      "cell_type": "code",
      "execution_count": 29,
      "id": "de57e416",
      "metadata": {},
      "outputs": [
        {
          "data": {
            "image/png": "[encoded data removed]",
            "text/plain": [
              "<Figure size 500x500 with 1 Axes>"
            ]
          },
          "metadata": {},
          "output_type": "display_data"
        }
      ],
      "source": [
        "plt.figure(figsize=(5, 5))\n",
        "# sns.kdeplot(master_df['date_location'].dt.weekday)\n",
        "# sns.lineplot(master_df['date_location'].dt.weekday)\n",
        "sns.histplot(master_df['date_location'].dt.month, bins=12, color='orange')\n",
        "\n",
        "plt.xlim(1,12)\n",
        "plt.xlabel('Mois de location')\n",
        "plt.ylabel('Densité des locations')\n",
        "plt.title('Analyse temporelle des locations par mois')\n",
        "plt.show()"
      ]
    },
    {
      "cell_type": "code",
      "execution_count": 30,
      "id": "46149b62",
      "metadata": {},
      "outputs": [
        {
          "data": {
            "image/png": "[encoded data removed]",
            "text/plain": [
              "<Figure size 640x480 with 1 Axes>"
            ]
          },
          "metadata": {},
          "output_type": "display_data"
        }
      ],
      "source": [
        "sns.barplot(data=master_df, x='lieu_location', y='montant_paye', color='orange')\n",
        "\n",
        "plt.xlabel('Lieu de location')\n",
        "plt.ylabel('Montant payé')\n",
        "plt.title('Relation entre lieu de location et montant payé')\n",
        "plt.show()"
      ]
    },
    {
      "cell_type": "code",
      "execution_count": 31,
      "id": "e1affcb7",
      "metadata": {},
      "outputs": [
        {
          "data": {
            "image/png": "[encoded data removed]",
            "text/plain": [
              "<Figure size 640x480 with 1 Axes>"
            ]
          },
          "metadata": {},
          "output_type": "display_data"
        }
      ],
      "source": [
        "sns.barplot(data=master_df, x='type_vehicule_paiement', y='montant_paye', color='orange')\n",
        "\n",
        "plt.xlabel('Type de véhicule')\n",
        "plt.ylabel('Montant payé')\n",
        "plt.title('Relation entre type de vehicule et montant payé')\n",
        "plt.show()"
      ]
    },
    {
      "cell_type": "code",
      "execution_count": 32,
      "id": "2155c5cf",
      "metadata": {},
      "outputs": [
        {
          "data": {
            "image/png": "[encoded data removed]",
            "text/plain": [
              "<Figure size 640x480 with 1 Axes>"
            ]
          },
          "metadata": {},
          "output_type": "display_data"
        }
      ],
      "source": [
        "sns.barplot(data=master_df, x='duree_location', y='montant_paye', color='orange')\n",
        "\n",
        "plt.xlabel('durée de location')\n",
        "plt.ylabel('Montant payé')\n",
        "plt.title('Relation entre durée de location et montant payé')\n",
        "plt.show()"
      ]
    },
    {
      "cell_type": "code",
      "execution_count": 33,
      "id": "c9098604",
      "metadata": {},
      "outputs": [
        {
          "data": {
            "image/png": "[encoded data removed]",
            "text/plain": [
              "<Figure size 640x480 with 1 Axes>"
            ]
          },
          "metadata": {},
          "output_type": "display_data"
        }
      ],
      "source": [
        "sns.barplot(data=master_df, x='programme_fidelite_utilise_paiement', y='montant_paye', color='orange')\n",
        "\n",
        "plt.ylim(1000,1200)\n",
        "plt.xlabel('Programme de fidélité utilisé')\n",
        "plt.ylabel('Montant payé')\n",
        "plt.title('Relation entre utilisation du programme de fidelité et montant payé')\n",
        "plt.show()"
      ]
    },
    {
      "cell_type": "code",
      "execution_count": 34,
      "id": "31f7a0e2",
      "metadata": {},
      "outputs": [
        {
          "data": {
            "image/png": "[encoded data removed]",
            "text/plain": [
              "<Figure size 640x480 with 1 Axes>"
            ]
          },
          "metadata": {},
          "output_type": "display_data"
        }
      ],
      "source": [
        "sns.barplot(data=master_df, x='type_client', y='montant_paye', color='orange')\n",
        "\n",
        "plt.xlabel('Client')\n",
        "plt.ylabel('Montant payé')\n",
        "plt.title('Relation entre type de client et montant payé')\n",
        "plt.show()"
      ]
    },
    {
      "cell_type": "code",
      "execution_count": 35,
      "id": "3de216dc",
      "metadata": {},
      "outputs": [
        {
          "data": {
            "image/png": "[encoded data removed]",
            "text/plain": [
              "<Figure size 640x480 with 1 Axes>"
            ]
          },
          "metadata": {},
          "output_type": "display_data"
        }
      ],
      "source": [
        "sns.barplot(data=master_df, x='programme_fidelite', y='montant_paye', color='orange')\n",
        "\n",
        "plt.xlabel('Est inscrit au programme de fidélité')\n",
        "plt.ylabel('Montant payé')\n",
        "plt.title('Relation entre programme fidélité et montant payé')\n",
        "plt.show()"
      ]
    },
    {
      "cell_type": "code",
      "execution_count": 36,
      "id": "d703870c",
      "metadata": {},
      "outputs": [
        {
          "data": {
            "image/png": "[encoded data removed]",
            "text/plain": [
              "<Figure size 640x480 with 1 Axes>"
            ]
          },
          "metadata": {},
          "output_type": "display_data"
        }
      ],
      "source": [
        "sns.barplot(data=master_df, x='type_carburant', y='montant_paye', color='orange')\n",
        "\n",
        "plt.xlabel('Type de carburant')\n",
        "plt.ylabel('Montant payé')\n",
        "plt.title('Relation entre type de carburant et montant payé')\n",
        "plt.show()"
      ]
    },
    {
      "cell_type": "code",
      "execution_count": 37,
      "id": "b1f8f804",
      "metadata": {},
      "outputs": [
        {
          "ename": "NameError",
          "evalue": "name 'table2' is not defined",
          "output_type": "error",
          "traceback": [
            "\u001b[31m---------------------------------------------------------------------------\u001b[39m",
            "\u001b[31mNameError\u001b[39m                                 Traceback (most recent call last)",
            "\u001b[36mCell\u001b[39m\u001b[36m \u001b[39m\u001b[32mIn[37]\u001b[39m\u001b[32m, line 1\u001b[39m\n\u001b[32m----> \u001b[39m\u001b[32m1\u001b[39m sns.catplot(data=\u001b[43mtable2\u001b[49m, x=\u001b[33m'\u001b[39m\u001b[33mcategory\u001b[39m\u001b[33m'\u001b[39m, y=\u001b[33m'\u001b[39m\u001b[33mnum_orders\u001b[39m\u001b[33m'\u001b[39m, kind=\u001b[33m\"\u001b[39m\u001b[33mbar\u001b[39m\u001b[33m\"\u001b[39m, height=\u001b[32m6\u001b[39m, aspect=\u001b[32m2\u001b[39m)\n\u001b[32m      2\u001b[39m \u001b[38;5;66;03m# plt.figure(figsize=(8,10)) # autre option pour ajuster la taille\u001b[39;00m\n\u001b[32m      3\u001b[39m plt.xticks(rotation=\u001b[32m30\u001b[39m)\n",
            "\u001b[31mNameError\u001b[39m: name 'table2' is not defined"
          ]
        }
      ],
      "source": [
        "sns.catplot(data=table2, x='category', y='num_orders', kind=\"bar\", height=6, aspect=2)\n",
        "# plt.figure(figsize=(8,10)) # autre option pour ajuster la taille\n",
        "plt.xticks(rotation=30)\n",
        "plt.yticks(rotation=30)\n",
        "plt.title('Number of orders per food category',  fontweight='bold', fontsize=14)\n",
        "plt.show()"
      ]
    },
    {
      "cell_type": "code",
      "execution_count": null,
      "id": "b3d28160",
      "metadata": {},
      "outputs": [
        {
          "data": {
            "application/vnd.microsoft.datawrangler.viewer.v0+json": {
              "columns": [
                {
                  "name": "index",
                  "rawType": "int64",
                  "type": "integer"
                },
                {
                  "name": "type_vehicule",
                  "rawType": "object",
                  "type": "string"
                },
                {
                  "name": "lieu_location",
                  "rawType": "object",
                  "type": "string"
                },
                {
                  "name": "programme_fidelite",
                  "rawType": "bool",
                  "type": "boolean"
                },
                {
                  "name": "statut_paiement",
                  "rawType": "object",
                  "type": "string"
                }
              ],
              "ref": "85425557-4a04-43e5-8322-db41fd7b71a6",
              "rows": [
                [
                  "0",
                  "Citadine",
                  "Gare",
                  "True",
                  "Réussi"
                ],
                [
                  "1",
                  "Citadine",
                  "Aéroport",
                  "True",
                  "Réussi"
                ],
                [
                  "2",
                  "Citadine",
                  "Centre-ville",
                  "False",
                  "Réussi"
                ],
                [
                  "3",
                  "Citadine",
                  "Gare",
                  "False",
                  "Réussi"
                ],
                [
                  "4",
                  "Berline",
                  "Aéroport",
                  "True",
                  "Réussi"
                ],
                [
                  "5",
                  "SUV",
                  "Gare",
                  "False",
                  "Réussi"
                ],
                [
                  "6",
                  "Citadine",
                  "Gare",
                  "False",
                  "Réussi"
                ],
                [
                  "7",
                  "Berline",
                  "Aéroport",
                  "False",
                  "Réussi"
                ],
                [
                  "8",
                  "SUV",
                  "Centre-ville",
                  "False",
                  "Réussi"
                ],
                [
                  "9",
                  "Berline",
                  "Centre-ville",
                  "False",
                  "Réussi"
                ],
                [
                  "10",
                  "SUV",
                  "Aéroport",
                  "False",
                  "Réussi"
                ],
                [
                  "11",
                  "Citadine",
                  "Aéroport",
                  "False",
                  "Réussi"
                ],
                [
                  "12",
                  "Utilitaire",
                  "Aéroport",
                  "False",
                  "Réussi"
                ],
                [
                  "13",
                  "Utilitaire",
                  "Gare",
                  "True",
                  "Réussi"
                ],
                [
                  "14",
                  "SUV",
                  "Centre-ville",
                  "False",
                  "Réussi"
                ],
                [
                  "15",
                  "Citadine",
                  "Aéroport",
                  "False",
                  "Réussi"
                ],
                [
                  "16",
                  "Berline",
                  "Centre-ville",
                  "False",
                  "Réussi"
                ],
                [
                  "17",
                  "Citadine",
                  "Centre-ville",
                  "True",
                  "Réussi"
                ],
                [
                  "18",
                  "Berline",
                  "Aéroport",
                  "True",
                  "Réussi"
                ],
                [
                  "19",
                  "Berline",
                  "Aéroport",
                  "False",
                  "Réussi"
                ],
                [
                  "20",
                  "Citadine",
                  "Aéroport",
                  "False",
                  "Réussi"
                ],
                [
                  "21",
                  "Citadine",
                  "Centre-ville",
                  "False",
                  "Réussi"
                ],
                [
                  "22",
                  "Berline",
                  "Gare",
                  "False",
                  "Réussi"
                ],
                [
                  "23",
                  "SUV",
                  "Aéroport",
                  "False",
                  "Réussi"
                ],
                [
                  "24",
                  "Citadine",
                  "Centre-ville",
                  "True",
                  "Réussi"
                ],
                [
                  "25",
                  "Citadine",
                  "Aéroport",
                  "False",
                  "Réussi"
                ],
                [
                  "26",
                  "Citadine",
                  "Centre-ville",
                  "False",
                  "Réussi"
                ],
                [
                  "27",
                  "Citadine",
                  "Aéroport",
                  "True",
                  "Réussi"
                ],
                [
                  "28",
                  "Citadine",
                  "Aéroport",
                  "False",
                  "Réussi"
                ],
                [
                  "29",
                  "SUV",
                  "Centre-ville",
                  "False",
                  "Réussi"
                ],
                [
                  "30",
                  "Berline",
                  "Aéroport",
                  "False",
                  "Réussi"
                ],
                [
                  "31",
                  "Utilitaire",
                  "Aéroport",
                  "False",
                  "Réussi"
                ],
                [
                  "32",
                  "Citadine",
                  "Centre-ville",
                  "True",
                  "Réussi"
                ],
                [
                  "33",
                  "Berline",
                  "Gare",
                  "False",
                  "Réussi"
                ],
                [
                  "34",
                  "Berline",
                  "Aéroport",
                  "False",
                  "Échoué"
                ],
                [
                  "35",
                  "Citadine",
                  "Gare",
                  "True",
                  "Réussi"
                ],
                [
                  "36",
                  "SUV",
                  "Gare",
                  "False",
                  "Réussi"
                ],
                [
                  "37",
                  "Berline",
                  "Centre-ville",
                  "False",
                  "Réussi"
                ],
                [
                  "38",
                  "Berline",
                  "Aéroport",
                  "False",
                  "Réussi"
                ],
                [
                  "39",
                  "Utilitaire",
                  "Aéroport",
                  "False",
                  "Réussi"
                ],
                [
                  "40",
                  "SUV",
                  "Gare",
                  "True",
                  "Réussi"
                ],
                [
                  "41",
                  "Citadine",
                  "Centre-ville",
                  "False",
                  "Réussi"
                ],
                [
                  "42",
                  "Berline",
                  "Centre-ville",
                  "False",
                  "Réussi"
                ],
                [
                  "43",
                  "SUV",
                  "Centre-ville",
                  "False",
                  "Réussi"
                ],
                [
                  "44",
                  "SUV",
                  "Gare",
                  "False",
                  "Réussi"
                ],
                [
                  "45",
                  "Berline",
                  "Aéroport",
                  "False",
                  "Réussi"
                ],
                [
                  "46",
                  "Utilitaire",
                  "Gare",
                  "True",
                  "Réussi"
                ],
                [
                  "47",
                  "SUV",
                  "Aéroport",
                  "True",
                  "Réussi"
                ],
                [
                  "48",
                  "Citadine",
                  "Centre-ville",
                  "True",
                  "Réussi"
                ],
                [
                  "49",
                  "SUV",
                  "Centre-ville",
                  "False",
                  "Réussi"
                ]
              ],
              "shape": {
                "columns": 4,
                "rows": 10000
              }
            },
            "text/html": [
              "<div>\n",
              "<style scoped>\n",
              "    .dataframe tbody tr th:only-of-type {\n",
              "        vertical-align: middle;\n",
              "    }\n",
              "\n",
              "    .dataframe tbody tr th {\n",
              "        vertical-align: top;\n",
              "    }\n",
              "\n",
              "    .dataframe thead th {\n",
              "        text-align: right;\n",
              "    }\n",
              "</style>\n",
              "<table border=\"1\" class=\"dataframe\">\n",
              "  <thead>\n",
              "    <tr style=\"text-align: right;\">\n",
              "      <th></th>\n",
              "      <th>type_vehicule</th>\n",
              "      <th>lieu_location</th>\n",
              "      <th>programme_fidelite</th>\n",
              "      <th>statut_paiement</th>\n",
              "    </tr>\n",
              "  </thead>\n",
              "  <tbody>\n",
              "    <tr>\n",
              "      <th>0</th>\n",
              "      <td>Citadine</td>\n",
              "      <td>Gare</td>\n",
              "      <td>True</td>\n",
              "      <td>Réussi</td>\n",
              "    </tr>\n",
              "    <tr>\n",
              "      <th>1</th>\n",
              "      <td>Citadine</td>\n",
              "      <td>Aéroport</td>\n",
              "      <td>True</td>\n",
              "      <td>Réussi</td>\n",
              "    </tr>\n",
              "    <tr>\n",
              "      <th>2</th>\n",
              "      <td>Citadine</td>\n",
              "      <td>Centre-ville</td>\n",
              "      <td>False</td>\n",
              "      <td>Réussi</td>\n",
              "    </tr>\n",
              "    <tr>\n",
              "      <th>3</th>\n",
              "      <td>Citadine</td>\n",
              "      <td>Gare</td>\n",
              "      <td>False</td>\n",
              "      <td>Réussi</td>\n",
              "    </tr>\n",
              "    <tr>\n",
              "      <th>4</th>\n",
              "      <td>Berline</td>\n",
              "      <td>Aéroport</td>\n",
              "      <td>True</td>\n",
              "      <td>Réussi</td>\n",
              "    </tr>\n",
              "    <tr>\n",
              "      <th>...</th>\n",
              "      <td>...</td>\n",
              "      <td>...</td>\n",
              "      <td>...</td>\n",
              "      <td>...</td>\n",
              "    </tr>\n",
              "    <tr>\n",
              "      <th>9995</th>\n",
              "      <td>Utilitaire</td>\n",
              "      <td>Aéroport</td>\n",
              "      <td>False</td>\n",
              "      <td>Réussi</td>\n",
              "    </tr>\n",
              "    <tr>\n",
              "      <th>9996</th>\n",
              "      <td>Citadine</td>\n",
              "      <td>Aéroport</td>\n",
              "      <td>False</td>\n",
              "      <td>Réussi</td>\n",
              "    </tr>\n",
              "    <tr>\n",
              "      <th>9997</th>\n",
              "      <td>Berline</td>\n",
              "      <td>Aéroport</td>\n",
              "      <td>False</td>\n",
              "      <td>Réussi</td>\n",
              "    </tr>\n",
              "    <tr>\n",
              "      <th>9998</th>\n",
              "      <td>SUV</td>\n",
              "      <td>Gare</td>\n",
              "      <td>True</td>\n",
              "      <td>Réussi</td>\n",
              "    </tr>\n",
              "    <tr>\n",
              "      <th>9999</th>\n",
              "      <td>SUV</td>\n",
              "      <td>Aéroport</td>\n",
              "      <td>False</td>\n",
              "      <td>Réussi</td>\n",
              "    </tr>\n",
              "  </tbody>\n",
              "</table>\n",
              "<p>10000 rows × 4 columns</p>\n",
              "</div>"
            ],
            "text/plain": [
              "     type_vehicule lieu_location  programme_fidelite statut_paiement\n",
              "0         Citadine          Gare                True          Réussi\n",
              "1         Citadine      Aéroport                True          Réussi\n",
              "2         Citadine  Centre-ville               False          Réussi\n",
              "3         Citadine          Gare               False          Réussi\n",
              "4          Berline      Aéroport                True          Réussi\n",
              "...            ...           ...                 ...             ...\n",
              "9995    Utilitaire      Aéroport               False          Réussi\n",
              "9996      Citadine      Aéroport               False          Réussi\n",
              "9997       Berline      Aéroport               False          Réussi\n",
              "9998           SUV          Gare                True          Réussi\n",
              "9999           SUV      Aéroport               False          Réussi\n",
              "\n",
              "[10000 rows x 4 columns]"
            ]
          },
          "execution_count": 106,
          "metadata": {},
          "output_type": "execute_result"
        }
      ],
      "source": [
        "master_df[col_cat]\n"
      ]
    },
    {
      "cell_type": "code",
      "execution_count": null,
      "id": "3db7dffe",
      "metadata": {},
      "outputs": [
        {
          "data": {
            "image/png": "[encoded data removed]",
            "text/plain": [
              "<Figure size 640x480 with 1 Axes>"
            ]
          },
          "metadata": {},
          "output_type": "display_data"
        },
        {
          "data": {
            "image/png": "[encoded data removed]",
            "text/plain": [
              "<Figure size 640x480 with 1 Axes>"
            ]
          },
          "metadata": {},
          "output_type": "display_data"
        },
        {
          "data": {
            "image/png": "[encoded data removed]",
            "text/plain": [
              "<Figure size 640x480 with 1 Axes>"
            ]
          },
          "metadata": {},
          "output_type": "display_data"
        },
        {
          "data": {
            "image/png": "[encoded data removed]",
            "text/plain": [
              "<Figure size 640x480 with 1 Axes>"
            ]
          },
          "metadata": {},
          "output_type": "display_data"
        }
      ],
      "source": [
        "sns.histplot(data=master_df['type_vehicule'], color='orange')\n",
        "plt.title('Nombre de locations par type de véhicule')\n",
        "plt.show()\n",
        "sns.histplot(data=master_df['lieu_location'], color='orange')\n",
        "plt.title('Nombre de locations par lieu de location')\n",
        "plt.show()\n",
        "sns.histplot(data=master_df['statut_paiement'], color='orange')\n",
        "plt.show()\n",
        "sns.histplot(data=master_df['programme_fidelite'], color='orange')\n",
        "plt.show()\n"
      ]
    },
    {
      "cell_type": "code",
      "execution_count": null,
      "id": "1b5aeb6f",
      "metadata": {},
      "outputs": [
        {
          "data": {
            "image/png": "[encoded data removed]",
            "text/plain": [
              "<Figure size 640x480 with 1 Axes>"
            ]
          },
          "metadata": {},
          "output_type": "display_data"
        }
      ],
      "source": [
        "counts = master_df['type_vehicule'].value_counts()\n",
        "\n",
        "plt.pie(counts,\n",
        "        labels=counts.index,\n",
        "        autopct='%0.1f%%',\n",
        "        explode=[0.1, 0, 0, 0],  # adapter selon besoin\n",
        "        textprops={'weight': 'bold', 'fontsize': 14})\n",
        "plt.title('Répartition des locations par type de véhicule %')\n",
        "plt.show()"
      ]
    },
    {
      "cell_type": "markdown",
      "id": "b46ccb5c",
      "metadata": {
        "id": "b46ccb5c"
      },
      "source": [
        "## 7. Insights Business et Prises de Décision"
      ]
    },
    {
      "cell_type": "markdown",
      "id": "G1wUWa-7saeQ",
      "metadata": {
        "id": "G1wUWa-7saeQ"
      },
      "source": [
        "Créer une présentation Google Slides pour présenter vos résultats"
      ]
    },
    {
      "cell_type": "code",
      "execution_count": null,
      "id": "c6548376",
      "metadata": {},
      "outputs": [],
      "source": []
    }
  ],
  "metadata": {
    "colab": {
      "collapsed_sections": [
        "8d9e5377",
        "6763b3e2",
        "dc5cd406",
        "8caea4b6",
        "8d9e1a19",
        "98547fa3",
        "64790ca7",
        "cbc60182",
        "2e61025c",
        "a6e0d2cf",
        "caa28b7f",
        "359e4901",
        "f1b63391",
        "dd035132",
        "ba18579b"
      ],
      "provenance": []
    },
    "kernelspec": {
      "display_name": "Python 3",
      "name": "python3"
    },
    "language_info": {
      "codemirror_mode": {
        "name": "ipython",
        "version": 3
      },
      "file_extension": ".py",
      "mimetype": "text/x-python",
      "name": "python",
      "nbconvert_exporter": "python",
      "pygments_lexer": "ipython3",
      "version": "3.12.7"
    }
  },
  "nbformat": 4,
  "nbformat_minor": 5
}
